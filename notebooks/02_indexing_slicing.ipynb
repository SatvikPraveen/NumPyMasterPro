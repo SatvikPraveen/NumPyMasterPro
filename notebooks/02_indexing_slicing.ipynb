{
 "cells": [
  {
   "cell_type": "markdown",
   "id": "73d140e2",
   "metadata": {},
   "source": [
    "# 🧩 Notebook-02: Indexing, Slicing, and Fancy Selection in NumPy\n",
    "python"
   ]
  },
  {
   "cell_type": "code",
   "execution_count": 1,
   "id": "176dfb34",
   "metadata": {},
   "outputs": [
    {
     "ename": "ModuleNotFoundError",
     "evalue": "No module named 'array_utils'",
     "output_type": "error",
     "traceback": [
      "\u001b[31m---------------------------------------------------------------------------\u001b[39m",
      "\u001b[31mModuleNotFoundError\u001b[39m                       Traceback (most recent call last)",
      "\u001b[36mCell\u001b[39m\u001b[36m \u001b[39m\u001b[32mIn[1]\u001b[39m\u001b[32m, line 17\u001b[39m\n\u001b[32m     15\u001b[39m \u001b[38;5;28;01mimport\u001b[39;00m\u001b[38;5;250m \u001b[39m\u001b[34;01mnumpy\u001b[39;00m\u001b[38;5;250m \u001b[39m\u001b[38;5;28;01mas\u001b[39;00m\u001b[38;5;250m \u001b[39m\u001b[34;01mnp\u001b[39;00m\n\u001b[32m     16\u001b[39m \u001b[38;5;28;01mimport\u001b[39;00m\u001b[38;5;250m \u001b[39m\u001b[34;01mpandas\u001b[39;00m\u001b[38;5;250m \u001b[39m\u001b[38;5;28;01mas\u001b[39;00m\u001b[38;5;250m \u001b[39m\u001b[34;01mpd\u001b[39;00m\n\u001b[32m---> \u001b[39m\u001b[32m17\u001b[39m \u001b[38;5;28;01mfrom\u001b[39;00m\u001b[38;5;250m \u001b[39m\u001b[34;01marray_utils\u001b[39;00m\u001b[38;5;250m \u001b[39m\u001b[38;5;28;01mimport\u001b[39;00m (\n\u001b[32m     18\u001b[39m     describe_array, array_summary_table, print_array_with_header\n\u001b[32m     19\u001b[39m )\n\u001b[32m     21\u001b[39m \u001b[38;5;28mprint\u001b[39m(\u001b[33m\"\u001b[39m\u001b[33m🔍 NumPy Indexing, Slicing & Selection\u001b[39m\u001b[38;5;130;01m\\n\u001b[39;00m\u001b[33m\"\u001b[39m)\n",
      "\u001b[31mModuleNotFoundError\u001b[39m: No module named 'array_utils'"
     ]
    }
   ],
   "source": [
    "# 📁 Set up project root and scripts path\n",
    "import sys\n",
    "from pathlib import Path\n",
    "\n",
    "# Automatically find the project root (assuming you're in notebooks/ or similar)\n",
    "CURRENT_NOTEBOOK = Path().resolve()\n",
    "PROJECT_ROOT = CURRENT_NOTEBOOK.parent.parent  # Adjust depending on notebook location\n",
    "SCRIPT_DIR = PROJECT_ROOT / \"scripts\"\n",
    "\n",
    "# 🔧 Add scripts/ to sys.path\n",
    "if str(SCRIPT_DIR) not in sys.path:\n",
    "    sys.path.insert(0, str(SCRIPT_DIR))\n",
    "\n",
    "# ✅ Now import utilities\n",
    "import numpy as np\n",
    "import pandas as pd\n",
    "from array_utils import (\n",
    "    describe_array, array_summary_table, print_array_with_header\n",
    ")\n",
    "\n",
    "print(\"🔍 NumPy Indexing, Slicing & Selection\\n\")\n"
   ]
  },
  {
   "cell_type": "code",
   "execution_count": null,
   "id": "5589b208",
   "metadata": {},
   "outputs": [
    {
     "name": "stdout",
     "output_type": "stream",
     "text": [
      "\n",
      "🔹 Original Array (1D)\n",
      "[10 20 30 40 50]\n",
      "arr[0] = 10\n",
      "arr[-1] = 50\n",
      "🔍 Array Summary:\n",
      "  Shape     : (5,)\n",
      "  Size      : 5\n",
      "  Ndim      : 1\n",
      "  Dtype     : int64\n",
      "  Itemsize  : 8\n",
      "  Nbytes    : 40\n"
     ]
    },
    {
     "data": {
      "text/plain": [
       "{'shape': (5,),\n",
       " 'size': 5,\n",
       " 'ndim': 1,\n",
       " 'dtype': dtype('int64'),\n",
       " 'itemsize': 8,\n",
       " 'nbytes': 40}"
      ]
     },
     "execution_count": 3,
     "metadata": {},
     "output_type": "execute_result"
    }
   ],
   "source": [
    "# ✅ 1. Basic indexing\n",
    "arr = np.array([10, 20, 30, 40, 50])\n",
    "print_array_with_header(arr, \"Original Array (1D)\")\n",
    "\n",
    "print(\"arr[0] =\", arr[0])\n",
    "print(\"arr[-1] =\", arr[-1])\n",
    "describe_array(arr)"
   ]
  },
  {
   "cell_type": "code",
   "execution_count": null,
   "id": "1e29a9e8",
   "metadata": {},
   "outputs": [
    {
     "name": "stdout",
     "output_type": "stream",
     "text": [
      "arr[1:4] = [20 30 40]\n",
      "arr[:3] = [10 20 30]\n",
      "arr[::2] = [10 30 50]\n"
     ]
    }
   ],
   "source": [
    "# ✅ 2. Slicing (1D)\n",
    "print(\"arr[1:4] =\", arr[1:4])\n",
    "print(\"arr[:3] =\", arr[:3])\n",
    "print(\"arr[::2] =\", arr[::2])  # Step slicing"
   ]
  },
  {
   "cell_type": "code",
   "execution_count": null,
   "id": "86d234d4",
   "metadata": {},
   "outputs": [
    {
     "name": "stdout",
     "output_type": "stream",
     "text": [
      "\n",
      "🔹 Original 2D Array\n",
      "[[1 2 3]\n",
      " [4 5 6]\n",
      " [7 8 9]]\n",
      "mat[0, 1] = 2\n",
      "mat[2, :] = [7 8 9]\n",
      "mat[:, 1] = [2 5 8]\n",
      "🔍 Array Summary:\n",
      "  Shape     : (3, 3)\n",
      "  Size      : 9\n",
      "  Ndim      : 2\n",
      "  Dtype     : int64\n",
      "  Itemsize  : 8\n",
      "  Nbytes    : 72\n"
     ]
    },
    {
     "data": {
      "text/plain": [
       "{'shape': (3, 3),\n",
       " 'size': 9,\n",
       " 'ndim': 2,\n",
       " 'dtype': dtype('int64'),\n",
       " 'itemsize': 8,\n",
       " 'nbytes': 72}"
      ]
     },
     "execution_count": 5,
     "metadata": {},
     "output_type": "execute_result"
    }
   ],
   "source": [
    "# ✅ 3. 2D array indexing\n",
    "mat = np.array([[1, 2, 3], [4, 5, 6], [7, 8, 9]])\n",
    "print_array_with_header(mat, \"Original 2D Array\")\n",
    "\n",
    "print(\"mat[0, 1] =\", mat[0, 1])\n",
    "print(\"mat[2, :] =\", mat[2, :])\n",
    "print(\"mat[:, 1] =\", mat[:, 1])\n",
    "describe_array(mat)"
   ]
  },
  {
   "cell_type": "code",
   "execution_count": null,
   "id": "befc336f",
   "metadata": {},
   "outputs": [
    {
     "name": "stdout",
     "output_type": "stream",
     "text": [
      "\n",
      "🔹 Boolean Mask (arr > 4)\n",
      "[False  True False  True  True]\n",
      "\n",
      "🔹 Filtered using mask\n",
      "[7 8 5]\n",
      "Shortcut: [7 8 5]\n"
     ]
    }
   ],
   "source": [
    "# ✅ 4. Boolean indexing\n",
    "arr = np.array([3, 7, 1, 8, 5])\n",
    "mask = arr > 4\n",
    "\n",
    "print_array_with_header(mask, \"Boolean Mask (arr > 4)\")\n",
    "print_array_with_header(arr[mask], \"Filtered using mask\")\n",
    "print(\"Shortcut:\", arr[arr > 4])"
   ]
  },
  {
   "cell_type": "code",
   "execution_count": null,
   "id": "195a1deb",
   "metadata": {},
   "outputs": [
    {
     "name": "stdout",
     "output_type": "stream",
     "text": [
      "Fancy Indexing: [3 1 5]\n"
     ]
    }
   ],
   "source": [
    "# ✅ 5. Fancy indexing\n",
    "indices = [0, 2, 4]\n",
    "print(\"Fancy Indexing:\", arr[indices])"
   ]
  },
  {
   "cell_type": "code",
   "execution_count": null,
   "id": "c4bb8a0b",
   "metadata": {},
   "outputs": [
    {
     "name": "stdout",
     "output_type": "stream",
     "text": [
      "\n",
      "🔹 Modified Array (arr[0:2] = 99)\n",
      "[99 99  1  8  5]\n"
     ]
    }
   ],
   "source": [
    "# ✅ 6. Modify elements using indexing\n",
    "arr[0:2] = 99\n",
    "print_array_with_header(arr, \"Modified Array (arr[0:2] = 99)\")"
   ]
  },
  {
   "cell_type": "code",
   "execution_count": null,
   "id": "d1057cee",
   "metadata": {},
   "outputs": [
    {
     "name": "stdout",
     "output_type": "stream",
     "text": [
      "Condition Result: ['Low' 'Low' 'High' 'High']\n"
     ]
    }
   ],
   "source": [
    "# ✅ 7. Using `np.where`\n",
    "data = np.array([5, 10, 15, 20])\n",
    "print(\"Condition Result:\", np.where(data > 10, \"High\", \"Low\"))"
   ]
  },
  {
   "cell_type": "code",
   "execution_count": null,
   "id": "19073690",
   "metadata": {},
   "outputs": [
    {
     "name": "stdout",
     "output_type": "stream",
     "text": [
      "Non-zero indices: [1 3 4]\n",
      "Count of non-zero elements: 3\n"
     ]
    }
   ],
   "source": [
    "# ✅ 8. `np.nonzero()` and `np.count_nonzero()`\n",
    "z = np.array([0, 1, 0, 2, 3])\n",
    "print(\"Non-zero indices:\", np.nonzero(z)[0])\n",
    "print(\"Count of non-zero elements:\", np.count_nonzero(z))"
   ]
  },
  {
   "cell_type": "code",
   "execution_count": null,
   "id": "eed347e7",
   "metadata": {},
   "outputs": [
    {
     "name": "stdout",
     "output_type": "stream",
     "text": [
      "Advanced indexing result: [12 21 32]\n"
     ]
    }
   ],
   "source": [
    "# ✅ 9. Multidimensional fancy indexing\n",
    "x = np.array([[11, 12], [21, 22], [31, 32]])\n",
    "row_idx = [0, 1, 2]\n",
    "col_idx = [1, 0, 1]\n",
    "\n",
    "print(\"Advanced indexing result:\", x[row_idx, col_idx])"
   ]
  },
  {
   "cell_type": "code",
   "execution_count": null,
   "id": "2a45d188",
   "metadata": {},
   "outputs": [
    {
     "name": "stdout",
     "output_type": "stream",
     "text": [
      "Take [0, 2, 4]: [10 30 50]\n",
      "After put at indices 1 and 3: [10 99 30 88 50]\n"
     ]
    }
   ],
   "source": [
    "# ✅ 10. Using .take() and .put()\n",
    "arr = np.array([10, 20, 30, 40, 50])\n",
    "print(\"Take [0, 2, 4]:\", arr.take([0, 2, 4]))\n",
    "\n",
    "arr.put([1, 3], [99, 88])\n",
    "print(\"After put at indices 1 and 3:\", arr)"
   ]
  },
  {
   "cell_type": "code",
   "execution_count": null,
   "id": "63a00e0c",
   "metadata": {},
   "outputs": [
    {
     "name": "stdout",
     "output_type": "stream",
     "text": [
      "\n",
      "📊 Summary Table of Arrays:\n"
     ]
    },
    {
     "data": {
      "text/html": [
       "<div>\n",
       "<style scoped>\n",
       "    .dataframe tbody tr th:only-of-type {\n",
       "        vertical-align: middle;\n",
       "    }\n",
       "\n",
       "    .dataframe tbody tr th {\n",
       "        vertical-align: top;\n",
       "    }\n",
       "\n",
       "    .dataframe thead th {\n",
       "        text-align: right;\n",
       "    }\n",
       "</style>\n",
       "<table border=\"1\" class=\"dataframe\">\n",
       "  <thead>\n",
       "    <tr style=\"text-align: right;\">\n",
       "      <th></th>\n",
       "      <th>Name</th>\n",
       "      <th>Shape</th>\n",
       "      <th>Size</th>\n",
       "      <th>Dtype</th>\n",
       "      <th>Nbytes</th>\n",
       "    </tr>\n",
       "  </thead>\n",
       "  <tbody>\n",
       "    <tr>\n",
       "      <th>0</th>\n",
       "      <td>1D</td>\n",
       "      <td>(10,)</td>\n",
       "      <td>10</td>\n",
       "      <td>int64</td>\n",
       "      <td>80</td>\n",
       "    </tr>\n",
       "    <tr>\n",
       "      <th>1</th>\n",
       "      <td>2D</td>\n",
       "      <td>(3, 4)</td>\n",
       "      <td>12</td>\n",
       "      <td>int64</td>\n",
       "      <td>96</td>\n",
       "    </tr>\n",
       "    <tr>\n",
       "      <th>2</th>\n",
       "      <td>2x2</td>\n",
       "      <td>(2, 2)</td>\n",
       "      <td>4</td>\n",
       "      <td>int64</td>\n",
       "      <td>32</td>\n",
       "    </tr>\n",
       "  </tbody>\n",
       "</table>\n",
       "</div>"
      ],
      "text/plain": [
       "  Name   Shape  Size  Dtype  Nbytes\n",
       "0   1D   (10,)    10  int64      80\n",
       "1   2D  (3, 4)    12  int64      96\n",
       "2  2x2  (2, 2)     4  int64      32"
      ]
     },
     "metadata": {},
     "output_type": "display_data"
    }
   ],
   "source": [
    "# Final Summary Table of Arrays\n",
    "arr1 = np.arange(10)\n",
    "arr2 = np.arange(12).reshape(3, 4)\n",
    "arr3 = np.array([[5, 6], [7, 8]])\n",
    "\n",
    "summary = array_summary_table(arr1, arr2, arr3, names=[\"1D\", \"2D\", \"2x2\"])\n",
    "print(\"\\n📊 Summary Table of Arrays:\")\n",
    "display(summary)\n"
   ]
  }
 ],
 "metadata": {
  "kernelspec": {
   "display_name": "numpy_env",
   "language": "python",
   "name": "python3"
  },
  "language_info": {
   "codemirror_mode": {
    "name": "ipython",
    "version": 3
   },
   "file_extension": ".py",
   "mimetype": "text/x-python",
   "name": "python",
   "nbconvert_exporter": "python",
   "pygments_lexer": "ipython3",
   "version": "3.11.5"
  }
 },
 "nbformat": 4,
 "nbformat_minor": 5
}
