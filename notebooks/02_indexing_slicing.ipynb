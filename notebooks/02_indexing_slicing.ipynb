{
 "cells": [
  {
   "cell_type": "markdown",
   "id": "73d140e2",
   "metadata": {},
   "source": [
    "# 🧩 Title: Indexing, Slicing, and Fancy Selection in NumPy\n",
    "python"
   ]
  },
  {
   "cell_type": "code",
   "execution_count": 1,
   "id": "176dfb34",
   "metadata": {},
   "outputs": [
    {
     "name": "stdout",
     "output_type": "stream",
     "text": [
      "🔍 NumPy Indexing, Slicing & Selection\n",
      "\n"
     ]
    }
   ],
   "source": [
    "import numpy as np\n",
    "print(\"🔍 NumPy Indexing, Slicing & Selection\\n\")"
   ]
  },
  {
   "cell_type": "code",
   "execution_count": 2,
   "id": "5589b208",
   "metadata": {},
   "outputs": [
    {
     "name": "stdout",
     "output_type": "stream",
     "text": [
      "Original array: [10 20 30 40 50]\n",
      "arr[0] = 10\n",
      "arr[-1] = 50\n"
     ]
    }
   ],
   "source": [
    "# ✅ 1. Basic indexing\n",
    "arr = np.array([10, 20, 30, 40, 50])\n",
    "print(\"Original array:\", arr)\n",
    "print(\"arr[0] =\", arr[0])\n",
    "print(\"arr[-1] =\", arr[-1])"
   ]
  },
  {
   "cell_type": "code",
   "execution_count": 3,
   "id": "1e29a9e8",
   "metadata": {},
   "outputs": [
    {
     "name": "stdout",
     "output_type": "stream",
     "text": [
      "Original array: [10 20 30 40 50]\n",
      "arr[0] = 10\n",
      "arr[-1] = 50\n"
     ]
    }
   ],
   "source": [
    "# ✅ 2. Slicing (1D)\n",
    "arr = np.array([10, 20, 30, 40, 50])\n",
    "print(\"Original array:\", arr)\n",
    "print(\"arr[0] =\", arr[0])\n",
    "print(\"arr[-1] =\", arr[-1])"
   ]
  },
  {
   "cell_type": "code",
   "execution_count": 4,
   "id": "86d234d4",
   "metadata": {},
   "outputs": [
    {
     "name": "stdout",
     "output_type": "stream",
     "text": [
      "\n",
      "Matrix:\n",
      " [[1 2 3]\n",
      " [4 5 6]\n",
      " [7 8 9]]\n",
      "mat[0][1] = 2\n",
      "mat[2, :] = [7 8 9]\n",
      "mat[:, 1] = [2 5 8]\n"
     ]
    }
   ],
   "source": [
    "# ✅ 3. 2D array indexing\n",
    "mat = np.array([[1, 2, 3],\n",
    "                [4, 5, 6],\n",
    "                [7, 8, 9]])\n",
    "print(\"\\nMatrix:\\n\", mat)\n",
    "print(\"mat[0][1] =\", mat[0][1])    # or mat[0, 1]\n",
    "print(\"mat[2, :] =\", mat[2, :])    # 3rd row\n",
    "print(\"mat[:, 1] =\", mat[:, 1])    # 2nd column"
   ]
  },
  {
   "cell_type": "code",
   "execution_count": 5,
   "id": "befc336f",
   "metadata": {},
   "outputs": [
    {
     "name": "stdout",
     "output_type": "stream",
     "text": [
      "\n",
      "Boolean mask: [False  True False  True  True]\n",
      "Filtered: [7 8 5]\n",
      "Shortcut: [7 8 5]\n"
     ]
    }
   ],
   "source": [
    "# ✅ 4. Boolean indexing\n",
    "arr = np.array([3, 7, 1, 8, 5])\n",
    "mask = arr > 4\n",
    "print(\"\\nBoolean mask:\", mask)\n",
    "print(\"Filtered:\", arr[mask])\n",
    "print(\"Shortcut:\", arr[arr > 4])"
   ]
  },
  {
   "cell_type": "code",
   "execution_count": 6,
   "id": "195a1deb",
   "metadata": {},
   "outputs": [
    {
     "name": "stdout",
     "output_type": "stream",
     "text": [
      "\n",
      "Fancy Indexing: [3 1 5]\n"
     ]
    }
   ],
   "source": [
    "# ✅ 5. Fancy indexing\n",
    "indices = [0, 2, 4]\n",
    "print(\"\\nFancy Indexing:\", arr[indices])"
   ]
  },
  {
   "cell_type": "code",
   "execution_count": 7,
   "id": "c4bb8a0b",
   "metadata": {},
   "outputs": [
    {
     "name": "stdout",
     "output_type": "stream",
     "text": [
      "Modified array: [99 99  1  8  5]\n"
     ]
    }
   ],
   "source": [
    "# ✅ 6. Modify elements using indexing\n",
    "arr[0:2] = 99\n",
    "print(\"Modified array:\", arr)"
   ]
  },
  {
   "cell_type": "code",
   "execution_count": 8,
   "id": "d1057cee",
   "metadata": {},
   "outputs": [
    {
     "name": "stdout",
     "output_type": "stream",
     "text": [
      "\n",
      "Where condition: ['Low' 'Low' 'High' 'High']\n"
     ]
    }
   ],
   "source": [
    "# ✅ 7. Using `np.where`\n",
    "data = np.array([5, 10, 15, 20])\n",
    "print(\"\\nWhere condition:\", np.where(data > 10, \"High\", \"Low\"))"
   ]
  },
  {
   "cell_type": "code",
   "execution_count": 9,
   "id": "19073690",
   "metadata": {},
   "outputs": [
    {
     "name": "stdout",
     "output_type": "stream",
     "text": [
      "\n",
      "Non-zero indices: (array([1, 3, 4]),)\n",
      "Count of non-zero: 3\n"
     ]
    }
   ],
   "source": [
    "# ✅ 8. `np.nonzero()` and `np.count_nonzero()`\n",
    "z = np.array([0, 1, 0, 2, 3])\n",
    "print(\"\\nNon-zero indices:\", np.nonzero(z))\n",
    "print(\"Count of non-zero:\", np.count_nonzero(z))"
   ]
  },
  {
   "cell_type": "code",
   "execution_count": 10,
   "id": "eed347e7",
   "metadata": {},
   "outputs": [
    {
     "name": "stdout",
     "output_type": "stream",
     "text": [
      "\n",
      "Advanced indexing: [12 21 32]\n"
     ]
    }
   ],
   "source": [
    "# ✅ 9. Multidimensional fancy indexing\n",
    "x = np.array([[11, 12],\n",
    "              [21, 22],\n",
    "              [31, 32]])\n",
    "row_idx = [0, 1, 2]\n",
    "col_idx = [1, 0, 1]\n",
    "print(\"\\nAdvanced indexing:\", x[row_idx, col_idx])"
   ]
  },
  {
   "cell_type": "code",
   "execution_count": 11,
   "id": "2a45d188",
   "metadata": {},
   "outputs": [
    {
     "name": "stdout",
     "output_type": "stream",
     "text": [
      "Take indices 0,2,4: [10 30 50]\n",
      "After put at indices 1,3: [10 99 30 88 50]\n"
     ]
    }
   ],
   "source": [
    "# ✅ 10. Using .take() and .put()\n",
    "arr = np.array([10, 20, 30, 40, 50])\n",
    "indices = [0, 2, 4]\n",
    "print(\"Take indices 0,2,4:\", arr.take(indices))\n",
    "\n",
    "# Now update values at index 1 and 3\n",
    "arr.put([1, 3], [99, 88])\n",
    "print(\"After put at indices 1,3:\", arr)"
   ]
  }
 ],
 "metadata": {
  "kernelspec": {
   "display_name": "numpy-env",
   "language": "python",
   "name": "python3"
  },
  "language_info": {
   "codemirror_mode": {
    "name": "ipython",
    "version": 3
   },
   "file_extension": ".py",
   "mimetype": "text/x-python",
   "name": "python",
   "nbconvert_exporter": "python",
   "pygments_lexer": "ipython3",
   "version": "3.11.11"
  }
 },
 "nbformat": 4,
 "nbformat_minor": 5
}
