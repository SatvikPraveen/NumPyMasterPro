{
 "cells": [
  {
   "cell_type": "markdown",
   "id": "622060c2",
   "metadata": {},
   "source": [
    "# 🧩 Notebook-09: Real-World Use Cases with NumPy"
   ]
  },
  {
   "cell_type": "code",
   "execution_count": 1,
   "id": "829598b6",
   "metadata": {},
   "outputs": [
    {
     "name": "stdout",
     "output_type": "stream",
     "text": [
      "🌍 Real-World Use Cases with NumPy\n",
      "\n"
     ]
    }
   ],
   "source": [
    "import numpy as np\n",
    "import sys\n",
    "from pathlib import Path\n",
    "\n",
    "# ✅ Setup paths\n",
    "PROJECT_ROOT = Path.cwd().parent\n",
    "SCRIPT_DIR = PROJECT_ROOT / \"scripts\"\n",
    "if str(SCRIPT_DIR) not in sys.path:\n",
    "    sys.path.insert(0, str(SCRIPT_DIR))\n",
    "\n",
    "from linear_algebra_utils import closed_form_linear_regression\n",
    "from stats_utils import standardize_rows\n",
    "\n",
    "print(\"🌍 Real-World Use Cases with NumPy\\n\")"
   ]
  },
  {
   "cell_type": "code",
   "execution_count": 2,
   "id": "7cd1eefa",
   "metadata": {},
   "outputs": [
    {
     "name": "stdout",
     "output_type": "stream",
     "text": [
      "Best fit (intercept, slope): [4.22215108 2.96846751]\n"
     ]
    }
   ],
   "source": [
    "# ✅ 1. Linear Regression (Closed-form using Matrix Math)\n",
    "np.random.seed(0)\n",
    "X = 2 * np.random.rand(100, 1)\n",
    "y = 4 + 3 * X + np.random.randn(100, 1)\n",
    "theta_best = closed_form_linear_regression(X, y)\n",
    "print(\"Best fit (intercept, slope):\", theta_best.ravel())"
   ]
  },
  {
   "cell_type": "code",
   "execution_count": 3,
   "id": "69ec29b1",
   "metadata": {},
   "outputs": [
    {
     "name": "stdout",
     "output_type": "stream",
     "text": [
      "\n",
      "Original Image (5x5 grayscale):\n",
      " [[ 83 194  28  53 135]\n",
      " [130  88  39 200  47]\n",
      " [184 108  61  66 254]\n",
      " [186 141 154 201  95]\n",
      " [  5 150 113 165   0]]\n",
      "Horizontally Flipped:\n",
      " [[135  53  28 194  83]\n",
      " [ 47 200  39  88 130]\n",
      " [254  66  61 108 184]\n",
      " [ 95 201 154 141 186]\n",
      " [  0 165 113 150   5]]\n",
      "Rotated 90°:\n",
      " [[135  47 254  95   0]\n",
      " [ 53 200  66 201 165]\n",
      " [ 28  39  61 154 113]\n",
      " [194  88 108 141 150]\n",
      " [ 83 130 184 186   5]]\n",
      "Normalized:\n",
      " [[0.33 0.76 0.11 0.21 0.53]\n",
      " [0.51 0.35 0.15 0.78 0.18]\n",
      " [0.72 0.42 0.24 0.26 1.  ]\n",
      " [0.73 0.55 0.6  0.79 0.37]\n",
      " [0.02 0.59 0.44 0.65 0.  ]]\n"
     ]
    }
   ],
   "source": [
    "# ✅ 2. Image Manipulation (Mock grayscale image)\n",
    "img = np.random.randint(0, 256, size=(5, 5), dtype=np.uint8)\n",
    "print(\"\\nOriginal Image (5x5 grayscale):\\n\", img)\n",
    "print(\"Horizontally Flipped:\\n\", np.fliplr(img))\n",
    "print(\"Rotated 90°:\\n\", np.rot90(img))\n",
    "print(\"Normalized:\\n\", (img / 255.0).round(2))"
   ]
  },
  {
   "cell_type": "markdown",
   "id": "65b9b9a8",
   "metadata": {},
   "source": [
    "## 🎲 Monte Carlo Simulation: Estimating π\n",
    "\n",
    "This simulation uses the Monte Carlo method to approximate the value of π.\n",
    "\n",
    "### 🧠 Concept\n",
    "\n",
    "Imagine a **unit square** of side 1, and inscribe a **quarter circle** of radius 1 inside it.\n",
    "\n",
    "- **Area of the square** = 1 × 1 = 1  \n",
    "- **Area of the quarter circle** = (π × r²) / 4 = π / 4 (since r = 1)\n",
    "\n",
    "Now, if we throw random (x, y) points inside the square, the ratio of points falling inside the quarter circle will approximate the ratio of the two areas:\n",
    "\n",
    "$$\\frac{\\text{Points inside quarter circle}}{\\text{Total points}} \\approx \\frac{\\pi}{4}$$\n",
    "\n",
    "\n",
    "So,\n",
    "\n",
    "$$\\pi \\approx 4 \\times \\left(\\frac{\\text{Points inside}}{N}\\right)$$\n",
    "\n",
    "---"
   ]
  },
  {
   "cell_type": "code",
   "execution_count": 4,
   "id": "abc751b5",
   "metadata": {},
   "outputs": [
    {
     "name": "stdout",
     "output_type": "stream",
     "text": [
      "\n",
      "Monte Carlo π estimate (N=1,000,000): 3.138292\n"
     ]
    }
   ],
   "source": [
    "# ✅ 3. Monte Carlo Simulation: π approximation\n",
    "N = 1_000_000\n",
    "x = np.random.rand(N)\n",
    "y = np.random.rand(N)\n",
    "inside_circle = (x**2 + y**2) <= 1\n",
    "pi_estimate = 4 * np.mean(inside_circle)\n",
    "print(\"\\nMonte Carlo π estimate (N=1,000,000):\", pi_estimate)"
   ]
  },
  {
   "cell_type": "markdown",
   "id": "0440e0df",
   "metadata": {},
   "source": [
    "## 📈 Broadcasting for Time-Series Standardization\n",
    "\n",
    "This example demonstrates how to use **NumPy broadcasting** to **standardize multivariate time-series data** — such as readings from multiple sensors over time.\n",
    "\n",
    "---\n",
    "\n",
    "### 🧠 Problem Statement\n",
    "\n",
    "We have `signals` from **3 different sensors**, each sampled across **10 time points**.  \n",
    "We want to **standardize** each sensor's data (i.e., each row) so it has:\n",
    "\n",
    "- **Mean = 0**\n",
    "- **Standard Deviation = 1**\n",
    "\n",
    "This is essential for preprocessing time-series data before applying ML models or statistical analysis.\n",
    "\n",
    "---"
   ]
  },
  {
   "cell_type": "code",
   "execution_count": 5,
   "id": "0eff4da9",
   "metadata": {},
   "outputs": [
    {
     "name": "stdout",
     "output_type": "stream",
     "text": [
      "\n",
      "Standardized time-series shape: (3, 10)\n"
     ]
    }
   ],
   "source": [
    "# ✅ 4. Broadcasting for Time-Series Standardization\n",
    "signals = np.random.rand(3, 10)  # 3 sensors × 10 timepoints\n",
    "standardized = standardize_rows(signals)\n",
    "print(\"\\nStandardized time-series shape:\", standardized.shape)"
   ]
  },
  {
   "cell_type": "code",
   "execution_count": 6,
   "id": "7efdc2f3",
   "metadata": {},
   "outputs": [
    {
     "name": "stdout",
     "output_type": "stream",
     "text": [
      "\n",
      "Compound Interest Over 10 Years:\n",
      " [1080.   1166.4  1259.71 1360.49 1469.33 1586.87 1713.82 1850.93 1999.\n",
      " 2158.92]\n"
     ]
    }
   ],
   "source": [
    "# ✅ 5. Financial Simulation: Compound Interest\n",
    "years = np.arange(1, 11)\n",
    "principal = 1000\n",
    "rate = 0.08\n",
    "amount = principal * (1 + rate) ** years\n",
    "print(\"\\nCompound Interest Over 10 Years:\\n\", amount.round(2))"
   ]
  },
  {
   "cell_type": "code",
   "execution_count": 7,
   "id": "76e2a95d",
   "metadata": {},
   "outputs": [
    {
     "name": "stdout",
     "output_type": "stream",
     "text": [
      "\n",
      "Range of each row (max - min): [ 5 10  6]\n"
     ]
    }
   ],
   "source": [
    "# ✅ 6. Apply Custom Function Along Axis\n",
    "def range_of_row(row):\n",
    "    return row.max() - row.min()\n",
    "\n",
    "mat = np.array([\n",
    "    [2, 7, 4],\n",
    "    [10, 15, 5],\n",
    "    [6, 9, 3]\n",
    "])\n",
    "row_ranges = np.apply_along_axis(range_of_row, axis=1, arr=mat)\n",
    "print(\"\\nRange of each row (max - min):\", row_ranges)"
   ]
  }
 ],
 "metadata": {
  "kernelspec": {
   "display_name": "numpy_env",
   "language": "python",
   "name": "python3"
  },
  "language_info": {
   "codemirror_mode": {
    "name": "ipython",
    "version": 3
   },
   "file_extension": ".py",
   "mimetype": "text/x-python",
   "name": "python",
   "nbconvert_exporter": "python",
   "pygments_lexer": "ipython3",
   "version": "3.11.5"
  }
 },
 "nbformat": 4,
 "nbformat_minor": 5
}
