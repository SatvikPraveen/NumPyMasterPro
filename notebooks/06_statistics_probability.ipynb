{
 "cells": [
  {
   "cell_type": "markdown",
   "id": "56c2d066",
   "metadata": {},
   "source": [
    "# 🧩 Notebook-06: Descriptive Statistics, Correlation, and Random Sampling"
   ]
  },
  {
   "cell_type": "code",
   "execution_count": 1,
   "id": "0a914b37",
   "metadata": {},
   "outputs": [
    {
     "name": "stdout",
     "output_type": "stream",
     "text": [
      "📊 NumPy Statistics & Probability\n",
      "\n"
     ]
    }
   ],
   "source": [
    "import sys\n",
    "from pathlib import Path\n",
    "\n",
    "# ✅ Setup project path\n",
    "PROJECT_ROOT = Path.cwd().parent\n",
    "SCRIPT_DIR = PROJECT_ROOT / \"scripts\"\n",
    "if str(SCRIPT_DIR) not in sys.path:\n",
    "    sys.path.insert(0, str(SCRIPT_DIR))\n",
    "\n",
    "# ✅ Imports\n",
    "import numpy as np\n",
    "\n",
    "from stats_utils import (\n",
    "    summarize_array,\n",
    "    quantiles,\n",
    "    compute_covariance,\n",
    "    compute_correlation,\n",
    "    minmax_normalize,\n",
    "    zscore_normalize,\n",
    "    robust_scale,\n",
    "    generate_random_integers,\n",
    "    generate_random_floats,\n",
    "    generate_normal_distribution,\n",
    "    random_sample,\n",
    "    histogram_binning,\n",
    "    compute_bincount\n",
    ")\n",
    "\n",
    "print(\"📊 NumPy Statistics & Probability\\n\")"
   ]
  },
  {
   "cell_type": "code",
   "execution_count": 2,
   "id": "3a4792ee",
   "metadata": {},
   "outputs": [
    {
     "name": "stdout",
     "output_type": "stream",
     "text": [
      "🔢 Data: [10 15 12 18 20 25]\n",
      "\n",
      "📌 Summary Statistics:\n",
      "                mean: 16.67\n",
      "              median: 16.50\n",
      "                 std: 5.02\n",
      "                 var: 25.22\n",
      "                 min: 10.00\n",
      "                 max: 25.00\n",
      "               range: 15.00\n",
      "     25th_percentile: 12.75\n",
      "     75th_percentile: 19.50\n",
      "                 IQR: 6.75\n",
      "\n",
      "📐 Quantiles: [12.75 16.5  19.5 ]\n"
     ]
    }
   ],
   "source": [
    "# ✅ 1. Descriptive statistics\n",
    "data = np.array([10, 15, 12, 18, 20, 25])\n",
    "print(\"🔢 Data:\", data)\n",
    "\n",
    "summary = summarize_array(data)\n",
    "print(\"\\n📌 Summary Statistics:\")\n",
    "for k, v in summary.items():\n",
    "    print(f\"{k:>20}: {v:.2f}\")\n",
    "\n",
    "print(\"\\n📐 Quantiles:\", quantiles(data))  # 0.25, 0.5, 0.75"
   ]
  },
  {
   "cell_type": "code",
   "execution_count": 3,
   "id": "7787fe80",
   "metadata": {},
   "outputs": [
    {
     "name": "stdout",
     "output_type": "stream",
     "text": [
      "\n",
      "🔗 Covariance Matrix:\n",
      " [[ 2.5  5. ]\n",
      " [ 5.  10. ]]\n",
      "🔗 Correlation Coefficient Matrix:\n",
      " [[1. 1.]\n",
      " [1. 1.]]\n"
     ]
    }
   ],
   "source": [
    "# ✅ 2. Correlation and covariance\n",
    "X = np.array([1, 2, 3, 4, 5])\n",
    "Y = np.array([2, 4, 6, 8, 10])\n",
    "\n",
    "print(\"\\n🔗 Covariance Matrix:\\n\", compute_covariance(X, Y))\n",
    "print(\"🔗 Correlation Coefficient Matrix:\\n\", compute_correlation(X, Y))"
   ]
  },
  {
   "cell_type": "code",
   "execution_count": 4,
   "id": "7a543d0e",
   "metadata": {},
   "outputs": [
    {
     "name": "stdout",
     "output_type": "stream",
     "text": [
      "\n",
      "🔄 Min-Max Normalized Data: [0.         0.33333333 0.13333333 0.53333333 0.66666667 1.        ]\n",
      "📏 Z-score Normalized Data: [-1.32744662 -0.33186166 -0.92921264  0.26548932  0.66372331  1.65930828]\n",
      "📉 Robust Scaled Data: [-0.40740741  0.33333333 -0.11111111  0.77777778  1.07407407  1.81481481]\n"
     ]
    }
   ],
   "source": [
    "# ✅ 3. Normalization & Scaling\n",
    "print(\"\\n🔄 Min-Max Normalized Data:\", minmax_normalize(data))\n",
    "print(\"📏 Z-score Normalized Data:\", zscore_normalize(data))\n",
    "print(\"📉 Robust Scaled Data:\", robust_scale(data))"
   ]
  },
  {
   "cell_type": "code",
   "execution_count": 5,
   "id": "7a7bff11",
   "metadata": {},
   "outputs": [
    {
     "name": "stdout",
     "output_type": "stream",
     "text": [
      "\n",
      "🎲 Random Integers: [6 3 7 4 6]\n",
      "🎲 Random Floats: [0.37454012 0.95071431 0.73199394 0.59865848 0.15601864]\n",
      "🎲 Random Normal Dist: [ 0.49671415 -0.1382643   0.64768854  1.52302986 -0.23415337]\n"
     ]
    }
   ],
   "source": [
    "# ✅ 4. Random number generation\n",
    "print(\"\\n🎲 Random Integers:\", generate_random_integers(0, 10, 5, seed=42))\n",
    "print(\"🎲 Random Floats:\", generate_random_floats(5, seed=42))\n",
    "print(\"🎲 Random Normal Dist:\", generate_normal_distribution(5, seed=42))"
   ]
  },
  {
   "cell_type": "code",
   "execution_count": 6,
   "id": "626d2d55",
   "metadata": {},
   "outputs": [
    {
     "name": "stdout",
     "output_type": "stream",
     "text": [
      "\n",
      "🧪 Sample (with replacement): [3 3 5]\n"
     ]
    }
   ],
   "source": [
    "# ✅ 5. Sampling from array\n",
    "sample_space = np.array([1, 2, 3, 4, 5])\n",
    "sample = random_sample(sample_space, sample_size=3, replace=True)\n",
    "print(\"\\n🧪 Sample (with replacement):\", sample)"
   ]
  },
  {
   "cell_type": "code",
   "execution_count": 7,
   "id": "1b3e95a3",
   "metadata": {},
   "outputs": [
    {
     "name": "stdout",
     "output_type": "stream",
     "text": [
      "\n",
      "🎰 Before shuffle: [0 1 2 3 4 5 6 7 8 9]\n",
      "🎰 After shuffle: [8 1 5 0 7 2 9 4 3 6]\n",
      "🔀 Random Permutation: [0 1 8 5 3 4 7 9 6 2]\n"
     ]
    }
   ],
   "source": [
    "# ✅ 6. Shuffling and permutation (manual)\n",
    "arr = np.arange(10)\n",
    "print(\"\\n🎰 Before shuffle:\", arr)\n",
    "np.random.seed(42)\n",
    "np.random.shuffle(arr)\n",
    "print(\"🎰 After shuffle:\", arr)\n",
    "\n",
    "permuted = np.random.permutation(10)\n",
    "print(\"🔀 Random Permutation:\", permuted)"
   ]
  },
  {
   "cell_type": "code",
   "execution_count": 8,
   "id": "bddb3d0c",
   "metadata": {},
   "outputs": [
    {
     "name": "stdout",
     "output_type": "stream",
     "text": [
      "\n",
      "📊 Histogram Counts: [7 4 2 1 6]\n",
      "📊 Histogram Bins: [ 2.  18.6 35.2 51.8 68.4 85. ]\n"
     ]
    }
   ],
   "source": [
    "# ✅ 7. Histogram binning (basic)\n",
    "data_hist = generate_random_integers(1, 100, 20, seed=1)\n",
    "counts, bins = histogram_binning(data_hist, bins=5)\n",
    "print(\"\\n📊 Histogram Counts:\", counts)\n",
    "print(\"📊 Histogram Bins:\", bins)"
   ]
  },
  {
   "cell_type": "code",
   "execution_count": 9,
   "id": "6f88b9e9",
   "metadata": {},
   "outputs": [
    {
     "name": "stdout",
     "output_type": "stream",
     "text": [
      "\n",
      "🔢 Bincount: [0 2 1 3]\n"
     ]
    }
   ],
   "source": [
    "# ✅ 8. Bincount (non-negative ints only)\n",
    "nonneg = np.array([1, 1, 2, 3, 3, 3])\n",
    "print(\"\\n🔢 Bincount:\", compute_bincount(nonneg))"
   ]
  }
 ],
 "metadata": {
  "kernelspec": {
   "display_name": "numpy_env",
   "language": "python",
   "name": "python3"
  },
  "language_info": {
   "codemirror_mode": {
    "name": "ipython",
    "version": 3
   },
   "file_extension": ".py",
   "mimetype": "text/x-python",
   "name": "python",
   "nbconvert_exporter": "python",
   "pygments_lexer": "ipython3",
   "version": "3.11.5"
  }
 },
 "nbformat": 4,
 "nbformat_minor": 5
}
