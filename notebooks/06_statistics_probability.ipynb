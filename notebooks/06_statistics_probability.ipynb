{
 "cells": [
  {
   "cell_type": "markdown",
   "id": "56c2d066",
   "metadata": {},
   "source": [
    "# 🧩 Title: Descriptive Statistics, Correlation, and Random Sampling"
   ]
  },
  {
   "cell_type": "code",
   "execution_count": 1,
   "id": "0a914b37",
   "metadata": {},
   "outputs": [
    {
     "name": "stdout",
     "output_type": "stream",
     "text": [
      "📊 NumPy Statistics & Probability\n",
      "\n"
     ]
    }
   ],
   "source": [
    "import numpy as np\n",
    "print(\"📊 NumPy Statistics & Probability\\n\")"
   ]
  },
  {
   "cell_type": "code",
   "execution_count": 2,
   "id": "3a4792ee",
   "metadata": {},
   "outputs": [
    {
     "name": "stdout",
     "output_type": "stream",
     "text": [
      "Data: [10 15 12 18 20 25]\n",
      "Mean: 16.666666666666668\n",
      "Median: 16.5\n",
      "Standard Deviation: 5.022173057773121\n",
      "Variance: 25.222222222222218\n",
      "Min: 10\n",
      "Max: 25\n",
      "25th percentile: 12.75\n",
      "75th percentile: 19.5\n",
      "Quantiles (0.25, 0.5, 0.75): [12.75 16.5  19.5 ]\n"
     ]
    }
   ],
   "source": [
    "# ✅ 1. Descriptive statistics\n",
    "data = np.array([10, 15, 12, 18, 20, 25])\n",
    "print(\"Data:\", data)\n",
    "print(\"Mean:\", np.mean(data))\n",
    "print(\"Median:\", np.median(data))\n",
    "print(\"Standard Deviation:\", np.std(data))\n",
    "print(\"Variance:\", np.var(data))\n",
    "print(\"Min:\", np.min(data))\n",
    "print(\"Max:\", np.max(data))\n",
    "print(\"25th percentile:\", np.percentile(data, 25))\n",
    "print(\"75th percentile:\", np.percentile(data, 75))\n",
    "print(\"Quantiles (0.25, 0.5, 0.75):\", np.quantile(data, [0.25, 0.5, 0.75]))"
   ]
  },
  {
   "cell_type": "code",
   "execution_count": 3,
   "id": "7787fe80",
   "metadata": {},
   "outputs": [
    {
     "name": "stdout",
     "output_type": "stream",
     "text": [
      "\n",
      "Covariance matrix:\n",
      " [[ 2.5  5. ]\n",
      " [ 5.  10. ]]\n",
      "Correlation coefficient matrix:\n",
      " [[1. 1.]\n",
      " [1. 1.]]\n"
     ]
    }
   ],
   "source": [
    "# ✅ 2. Correlation and covariance\n",
    "X = np.array([1, 2, 3, 4, 5])\n",
    "Y = np.array([2, 4, 6, 8, 10])\n",
    "print(\"\\nCovariance matrix:\\n\", np.cov(X, Y))\n",
    "print(\"Correlation coefficient matrix:\\n\", np.corrcoef(X, Y))"
   ]
  },
  {
   "cell_type": "code",
   "execution_count": 4,
   "id": "7a543d0e",
   "metadata": {},
   "outputs": [
    {
     "name": "stdout",
     "output_type": "stream",
     "text": [
      "\n",
      "Random integers: [6 3 7 4 6]\n",
      "Random floats (uniform): [0.44583275 0.09997492 0.45924889 0.33370861 0.14286682]\n",
      "Random normal distribution: [-0.4826188   0.16416482  0.23309524  0.11799461  1.46237812]\n"
     ]
    }
   ],
   "source": [
    "# ✅ 3. Random number generation\n",
    "np.random.seed(42)\n",
    "print(\"\\nRandom integers:\", np.random.randint(0, 10, 5))\n",
    "print(\"Random floats (uniform):\", np.random.rand(5))\n",
    "print(\"Random normal distribution:\", np.random.randn(5))"
   ]
  },
  {
   "cell_type": "code",
   "execution_count": 5,
   "id": "7a7bff11",
   "metadata": {},
   "outputs": [
    {
     "name": "stdout",
     "output_type": "stream",
     "text": [
      "\n",
      "Sample (with replacement): [5 4 1]\n"
     ]
    }
   ],
   "source": [
    "# ✅ 4. Sampling from array\n",
    "sample_space = np.array([1, 2, 3, 4, 5])\n",
    "sample = np.random.choice(sample_space, size=3, replace=True)\n",
    "print(\"\\nSample (with replacement):\", sample)"
   ]
  },
  {
   "cell_type": "code",
   "execution_count": 6,
   "id": "626d2d55",
   "metadata": {},
   "outputs": [
    {
     "name": "stdout",
     "output_type": "stream",
     "text": [
      "Before shuffle: [0 1 2 3 4 5 6 7 8 9]\n",
      "After shuffle: [1 5 4 8 9 7 6 3 2 0]\n",
      "Random permutation: [8 2 5 7 3 1 9 0 4 6]\n"
     ]
    }
   ],
   "source": [
    "# ✅ 5. Shuffling and permutation\n",
    "arr = np.arange(10)\n",
    "print(\"Before shuffle:\", arr)\n",
    "np.random.shuffle(arr)\n",
    "print(\"After shuffle:\", arr)\n",
    "\n",
    "permuted = np.random.permutation(10)\n",
    "print(\"Random permutation:\", permuted)"
   ]
  },
  {
   "cell_type": "code",
   "execution_count": 7,
   "id": "1b3e95a3",
   "metadata": {},
   "outputs": [
    {
     "name": "stdout",
     "output_type": "stream",
     "text": [
      "\n",
      "Histogram counts: [6 2 5 2 5]\n",
      "Histogram bins: [ 2. 20. 38. 56. 74. 92.]\n"
     ]
    }
   ],
   "source": [
    "# ✅ 6. Histogram binning (basic)\n",
    "data = np.random.randint(1, 100, 20)\n",
    "counts, bins = np.histogram(data, bins=5)\n",
    "print(\"\\nHistogram counts:\", counts)\n",
    "print(\"Histogram bins:\", bins)"
   ]
  },
  {
   "cell_type": "code",
   "execution_count": 8,
   "id": "bddb3d0c",
   "metadata": {},
   "outputs": [
    {
     "name": "stdout",
     "output_type": "stream",
     "text": [
      "\n",
      "Bincount: [0 2 1 3]\n"
     ]
    }
   ],
   "source": [
    "# ✅ 7. Bincount (only for non-negative ints)\n",
    "nonneg = np.array([1, 1, 2, 3, 3, 3])\n",
    "print(\"\\nBincount:\", np.bincount(nonneg))"
   ]
  }
 ],
 "metadata": {
  "kernelspec": {
   "display_name": "numpy-env",
   "language": "python",
   "name": "python3"
  },
  "language_info": {
   "codemirror_mode": {
    "name": "ipython",
    "version": 3
   },
   "file_extension": ".py",
   "mimetype": "text/x-python",
   "name": "python",
   "nbconvert_exporter": "python",
   "pygments_lexer": "ipython3",
   "version": "3.11.11"
  }
 },
 "nbformat": 4,
 "nbformat_minor": 5
}
