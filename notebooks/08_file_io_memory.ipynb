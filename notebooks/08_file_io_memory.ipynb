{
 "cells": [
  {
   "cell_type": "markdown",
   "id": "e562ad67",
   "metadata": {},
   "source": [
    "# 🧩 Title: File I/O, Memory Mapping, Views vs Copies in NumPy"
   ]
  },
  {
   "cell_type": "code",
   "execution_count": 1,
   "id": "718caa04",
   "metadata": {},
   "outputs": [
    {
     "name": "stdout",
     "output_type": "stream",
     "text": [
      "💾 NumPy File I/O & Memory Management\n",
      "\n"
     ]
    }
   ],
   "source": [
    "import numpy as np\n",
    "import os\n",
    "\n",
    "print(\"💾 NumPy File I/O & Memory Management\\n\")"
   ]
  },
  {
   "cell_type": "code",
   "execution_count": 2,
   "id": "21e3d438",
   "metadata": {},
   "outputs": [
    {
     "name": "stdout",
     "output_type": "stream",
     "text": [
      "Saved .npy array: [0 1 2 3 4 5 6 7 8 9]\n"
     ]
    }
   ],
   "source": [
    "# ✅ 1. Saving and loading .npy files\n",
    "arr = np.arange(10)\n",
    "# /Users/satvikpraveen/Desktop/Libraries/NumPyMasteryPro/datasets\n",
    "path = \"/Users/satvikpraveen/Desktop/Libraries/NumPyMasteryPro/datasets/\"\n",
    "np.save(path + \"sample_array.npy\", arr)\n",
    "loaded = np.load(path + \"sample_array.npy\")\n",
    "print(\"Saved .npy array:\", loaded)"
   ]
  },
  {
   "cell_type": "code",
   "execution_count": 3,
   "id": "b91c4fac",
   "metadata": {},
   "outputs": [
    {
     "name": "stdout",
     "output_type": "stream",
     "text": [
      "\n",
      "Array1 from .npz: [1 2 3]\n",
      "Array2 from .npz: [4 5 6]\n"
     ]
    }
   ],
   "source": [
    "# ✅ 2. Saving and loading multiple arrays (.npz format)\n",
    "a = np.array([1, 2, 3])\n",
    "b = np.array([4, 5, 6])\n",
    "path = \"/Users/satvikpraveen/Desktop/Libraries/NumPyMasteryPro/datasets/\"\n",
    "np.savez(path+\"multiple_arrays.npz\", array1=a, array2=b)\n",
    "data = np.load(path+\"multiple_arrays.npz\")\n",
    "print(\"\\nArray1 from .npz:\", data[\"array1\"])\n",
    "print(\"Array2 from .npz:\", data[\"array2\"])"
   ]
  },
  {
   "cell_type": "code",
   "execution_count": 4,
   "id": "00a3dd45",
   "metadata": {},
   "outputs": [
    {
     "name": "stdout",
     "output_type": "stream",
     "text": [
      "\n",
      "Loaded from .txt: [0. 1. 2. 3. 4. 5. 6. 7. 8. 9.]\n"
     ]
    }
   ],
   "source": [
    "# ✅ 3. Saving to and loading from text\n",
    "np.savetxt(path+\"sample_data.txt\", arr, delimiter=\",\")\n",
    "loaded_txt = np.loadtxt(path+\"sample_data.txt\", delimiter=\",\")\n",
    "print(\"\\nLoaded from .txt:\", loaded_txt)"
   ]
  },
  {
   "cell_type": "code",
   "execution_count": 5,
   "id": "d4e66085",
   "metadata": {},
   "outputs": [
    {
     "name": "stdout",
     "output_type": "stream",
     "text": [
      "\n",
      "Data with missing value handled:\n",
      " [[ 1.  2.  3.]\n",
      " [ 4. nan  6.]\n",
      " [ 7.  8.  9.]]\n"
     ]
    }
   ],
   "source": [
    "# ✅ 4. Using genfromtxt (handling missing data)\n",
    "with open(path+\"missing_data.csv\", \"w\") as f:\n",
    "    f.write(\"1.0, 2.0, 3.0\\n4.0, , 6.0\\n7.0, 8.0, 9.0\")\n",
    "data = np.genfromtxt(path+\"missing_data.csv\", delimiter=\",\")\n",
    "print(\"\\nData with missing value handled:\\n\", data)"
   ]
  },
  {
   "cell_type": "code",
   "execution_count": 6,
   "id": "ca5f1c65",
   "metadata": {},
   "outputs": [
    {
     "name": "stdout",
     "output_type": "stream",
     "text": [
      "\n",
      "Memory-mapped array:\n",
      " [[0.99970555 0.10805134 0.3831926 ]\n",
      " [0.2796911  0.7462194  0.47375485]\n",
      " [0.20897995 0.17428382 0.46663654]]\n"
     ]
    }
   ],
   "source": [
    "# ✅ 5. Memory-mapped files (efficient large file I/O)\n",
    "mmap_array = np.memmap(path+\"memmap_array.dat\", dtype='float32', mode='w+', shape=(3, 3))\n",
    "mmap_array[:] = np.random.rand(3, 3)\n",
    "print(\"\\nMemory-mapped array:\\n\", mmap_array)\n",
    "del mmap_array  # flush data"
   ]
  },
  {
   "cell_type": "code",
   "execution_count": 7,
   "id": "2a07930c",
   "metadata": {},
   "outputs": [
    {
     "name": "stdout",
     "output_type": "stream",
     "text": [
      "Reloaded memmap array:\n",
      " [[0.99970555 0.10805134 0.3831926 ]\n",
      " [0.2796911  0.7462194  0.47375485]\n",
      " [0.20897995 0.17428382 0.46663654]]\n"
     ]
    }
   ],
   "source": [
    "# ✅ 6. Reload memory-mapped array\n",
    "mmap_loaded = np.memmap(path+\"memmap_array.dat\", dtype='float32', mode='r', shape=(3, 3))\n",
    "print(\"Reloaded memmap array:\\n\", mmap_loaded)"
   ]
  },
  {
   "cell_type": "code",
   "execution_count": 8,
   "id": "9cd5a8ee",
   "metadata": {},
   "outputs": [
    {
     "name": "stdout",
     "output_type": "stream",
     "text": [
      "\n",
      "Original array modified: [100   2   3]\n",
      "View (shares memory): [100   2   3]\n",
      "Copy (independent): [1 2 3]\n"
     ]
    }
   ],
   "source": [
    "# ✅ 7. Views vs. Copies\n",
    "arr = np.array([1, 2, 3])\n",
    "view = arr.view()\n",
    "copy = arr.copy()\n",
    "arr[0] = 100\n",
    "\n",
    "print(\"\\nOriginal array modified:\", arr)\n",
    "print(\"View (shares memory):\", view)\n",
    "print(\"Copy (independent):\", copy)"
   ]
  },
  {
   "cell_type": "code",
   "execution_count": 9,
   "id": "527a7632",
   "metadata": {},
   "outputs": [
    {
     "name": "stdout",
     "output_type": "stream",
     "text": [
      "arr.base is None: True\n",
      "view.base is arr: True\n",
      "copy.base is None: True\n"
     ]
    }
   ],
   "source": [
    "# ✅ 8. Check memory sharing\n",
    "print(\"arr.base is None:\", arr.base is None)\n",
    "print(\"view.base is arr:\", view.base is arr)\n",
    "print(\"copy.base is None:\", copy.base is None)"
   ]
  },
  {
   "cell_type": "code",
   "execution_count": 10,
   "id": "b55ec6cd",
   "metadata": {},
   "outputs": [
    {
     "name": "stdout",
     "output_type": "stream",
     "text": [
      "\n",
      "Vectorized divide: [5. 0. 6.]\n"
     ]
    }
   ],
   "source": [
    "# ✅ 9. Using np.vectorize() to apply custom functions element-wise\n",
    "def safe_divide(x, y):\n",
    "    return 0 if y == 0 else x / y\n",
    "\n",
    "# Example arrays\n",
    "a = np.array([10, 20, 30])\n",
    "b = np.array([2, 0, 5])\n",
    "\n",
    "vec_divide = np.vectorize(safe_divide)\n",
    "print(\"\\nVectorized divide:\", vec_divide(a, b))"
   ]
  }
 ],
 "metadata": {
  "kernelspec": {
   "display_name": "numpy-env",
   "language": "python",
   "name": "python3"
  },
  "language_info": {
   "codemirror_mode": {
    "name": "ipython",
    "version": 3
   },
   "file_extension": ".py",
   "mimetype": "text/x-python",
   "name": "python",
   "nbconvert_exporter": "python",
   "pygments_lexer": "ipython3",
   "version": "3.11.11"
  }
 },
 "nbformat": 4,
 "nbformat_minor": 5
}
