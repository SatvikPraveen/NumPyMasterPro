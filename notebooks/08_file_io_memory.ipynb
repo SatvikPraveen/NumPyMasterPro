{
 "cells": [
  {
   "cell_type": "markdown",
   "id": "e562ad67",
   "metadata": {},
   "source": [
    "# 🧩 Notebook-08: File I/O, Memory Mapping, Views vs Copies in NumPy"
   ]
  },
  {
   "cell_type": "code",
   "execution_count": 1,
   "id": "718caa04",
   "metadata": {},
   "outputs": [
    {
     "name": "stdout",
     "output_type": "stream",
     "text": [
      "💾 NumPy File I/O & Memory Management\n",
      "\n"
     ]
    }
   ],
   "source": [
    "import numpy as np\n",
    "import os\n",
    "import sys\n",
    "from pathlib import Path\n",
    "\n",
    "# ✅ Setup path\n",
    "PROJECT_ROOT = Path.cwd().parent\n",
    "DATA_DIR = PROJECT_ROOT / \"datasets\"\n",
    "SCRIPT_DIR = PROJECT_ROOT / \"scripts\"\n",
    "if str(SCRIPT_DIR) not in sys.path:\n",
    "    sys.path.insert(0, str(SCRIPT_DIR))\n",
    "\n",
    "# ✅ Import utility functions\n",
    "from io_utils import (\n",
    "    save_npy, load_npy, save_npz, load_npz, save_txt, load_txt,\n",
    "    write_csv_with_missing_values, load_genfromtxt,\n",
    "    create_memmap, load_memmap\n",
    ")\n",
    "\n",
    "print(\"💾 NumPy File I/O & Memory Management\\n\")"
   ]
  },
  {
   "cell_type": "code",
   "execution_count": 2,
   "id": "21e3d438",
   "metadata": {},
   "outputs": [
    {
     "name": "stdout",
     "output_type": "stream",
     "text": [
      "Saved .npy array: [0 1 2 3 4 5 6 7 8 9]\n"
     ]
    }
   ],
   "source": [
    "# ✅ 1. Saving and loading .npy files\n",
    "arr = np.arange(10)\n",
    "save_npy(DATA_DIR / \"sample_array.npy\", arr)\n",
    "loaded = load_npy(DATA_DIR / \"sample_array.npy\")\n",
    "print(\"Saved .npy array:\", loaded)"
   ]
  },
  {
   "cell_type": "code",
   "execution_count": 3,
   "id": "b91c4fac",
   "metadata": {},
   "outputs": [
    {
     "name": "stdout",
     "output_type": "stream",
     "text": [
      "\n",
      "Array1 from .npz: [1 2 3]\n",
      "Array2 from .npz: [4 5 6]\n"
     ]
    }
   ],
   "source": [
    "# ✅ 2. Saving and loading multiple arrays (.npz format)\n",
    "a = np.array([1, 2, 3])\n",
    "b = np.array([4, 5, 6])\n",
    "save_npz(DATA_DIR / \"multiple_arrays.npz\", array1=a, array2=b)\n",
    "data = load_npz(DATA_DIR / \"multiple_arrays.npz\")\n",
    "print(\"\\nArray1 from .npz:\", data[\"array1\"])\n",
    "print(\"Array2 from .npz:\", data[\"array2\"])"
   ]
  },
  {
   "cell_type": "code",
   "execution_count": 4,
   "id": "00a3dd45",
   "metadata": {},
   "outputs": [
    {
     "name": "stdout",
     "output_type": "stream",
     "text": [
      "\n",
      "Loaded from .txt: [0. 1. 2. 3. 4. 5. 6. 7. 8. 9.]\n"
     ]
    }
   ],
   "source": [
    "# ✅ 3. Saving to and loading from text\n",
    "save_txt(DATA_DIR / \"sample_data.txt\", arr)\n",
    "loaded_txt = load_txt(DATA_DIR / \"sample_data.txt\")\n",
    "print(\"\\nLoaded from .txt:\", loaded_txt)"
   ]
  },
  {
   "cell_type": "code",
   "execution_count": 5,
   "id": "d4e66085",
   "metadata": {},
   "outputs": [
    {
     "name": "stdout",
     "output_type": "stream",
     "text": [
      "\n",
      "Data with missing value handled:\n",
      " [[ 1.  2.  3.]\n",
      " [ 4. nan  6.]\n",
      " [ 7.  8.  9.]]\n"
     ]
    }
   ],
   "source": [
    "# ✅ 4. Using genfromtxt (handling missing data)\n",
    "write_csv_with_missing_values(DATA_DIR / \"missing_data.csv\")\n",
    "data = load_genfromtxt(DATA_DIR / \"missing_data.csv\")\n",
    "print(\"\\nData with missing value handled:\\n\", data)"
   ]
  },
  {
   "cell_type": "code",
   "execution_count": 6,
   "id": "ca5f1c65",
   "metadata": {},
   "outputs": [
    {
     "name": "stdout",
     "output_type": "stream",
     "text": [
      "\n",
      "Memory-mapped array:\n",
      " [[0.65761036 0.47393706 0.48731482]\n",
      " [0.84995455 0.0568013  0.3221486 ]\n",
      " [0.21267675 0.81114644 0.7193266 ]]\n"
     ]
    }
   ],
   "source": [
    "# ✅ 5. Memory-mapped files (efficient large file I/O)\n",
    "mmap_array = create_memmap(DATA_DIR / \"memmap_array.dat\")\n",
    "print(\"\\nMemory-mapped array:\\n\", mmap_array)\n",
    "del mmap_array  # flush to disk"
   ]
  },
  {
   "cell_type": "code",
   "execution_count": 7,
   "id": "2a07930c",
   "metadata": {},
   "outputs": [
    {
     "name": "stdout",
     "output_type": "stream",
     "text": [
      "Reloaded memmap array:\n",
      " [[0.65761036 0.47393706 0.48731482]\n",
      " [0.84995455 0.0568013  0.3221486 ]\n",
      " [0.21267675 0.81114644 0.7193266 ]]\n"
     ]
    }
   ],
   "source": [
    "# ✅ 6. Reload memory-mapped array\n",
    "mmap_loaded = load_memmap(DATA_DIR / \"memmap_array.dat\")\n",
    "print(\"Reloaded memmap array:\\n\", mmap_loaded)"
   ]
  },
  {
   "cell_type": "code",
   "execution_count": 8,
   "id": "9cd5a8ee",
   "metadata": {},
   "outputs": [
    {
     "name": "stdout",
     "output_type": "stream",
     "text": [
      "\n",
      "Original array modified: [100   2   3]\n",
      "View (shares memory): [100   2   3]\n",
      "Copy (independent): [1 2 3]\n"
     ]
    }
   ],
   "source": [
    "# ✅ 7. Views vs. Copies\n",
    "arr = np.array([1, 2, 3])\n",
    "view = arr.view()\n",
    "copy = arr.copy()\n",
    "arr[0] = 100\n",
    "\n",
    "print(\"\\nOriginal array modified:\", arr)\n",
    "print(\"View (shares memory):\", view)\n",
    "print(\"Copy (independent):\", copy)"
   ]
  },
  {
   "cell_type": "code",
   "execution_count": 9,
   "id": "527a7632",
   "metadata": {},
   "outputs": [
    {
     "name": "stdout",
     "output_type": "stream",
     "text": [
      "arr.base is None: True\n",
      "view.base is arr: True\n",
      "copy.base is None: True\n"
     ]
    }
   ],
   "source": [
    "# ✅ 8. Check memory sharing\n",
    "print(\"arr.base is None:\", arr.base is None)\n",
    "print(\"view.base is arr:\", view.base is arr)\n",
    "print(\"copy.base is None:\", copy.base is None)"
   ]
  },
  {
   "cell_type": "code",
   "execution_count": 10,
   "id": "b55ec6cd",
   "metadata": {},
   "outputs": [
    {
     "name": "stdout",
     "output_type": "stream",
     "text": [
      "\n",
      "Vectorized divide: [5. 0. 6.]\n"
     ]
    }
   ],
   "source": [
    "# ✅ 9. Using np.vectorize() to apply custom functions element-wise\n",
    "def safe_divide(x, y):\n",
    "    return 0 if y == 0 else x / y\n",
    "\n",
    "a = np.array([10, 20, 30])\n",
    "b = np.array([2, 0, 5])\n",
    "vec_divide = np.vectorize(safe_divide)\n",
    "print(\"\\nVectorized divide:\", vec_divide(a, b))"
   ]
  }
 ],
 "metadata": {
  "kernelspec": {
   "display_name": "numpy_env",
   "language": "python",
   "name": "python3"
  },
  "language_info": {
   "codemirror_mode": {
    "name": "ipython",
    "version": 3
   },
   "file_extension": ".py",
   "mimetype": "text/x-python",
   "name": "python",
   "nbconvert_exporter": "python",
   "pygments_lexer": "ipython3",
   "version": "3.11.5"
  }
 },
 "nbformat": 4,
 "nbformat_minor": 5
}
