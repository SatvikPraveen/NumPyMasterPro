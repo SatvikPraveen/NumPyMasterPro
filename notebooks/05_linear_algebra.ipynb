{
 "cells": [
  {
   "cell_type": "markdown",
   "id": "172f7c99",
   "metadata": {},
   "source": [
    "# 🧩 Notebook-05: Linear Algebra with NumPy"
   ]
  },
  {
   "cell_type": "code",
   "execution_count": 1,
   "id": "4798b184",
   "metadata": {},
   "outputs": [
    {
     "name": "stdout",
     "output_type": "stream",
     "text": [
      "📐 NumPy Linear Algebra Essentials\n",
      "\n"
     ]
    }
   ],
   "source": [
    "import sys\n",
    "from pathlib import Path\n",
    "\n",
    "# ✅ Project path setup\n",
    "PROJECT_ROOT = Path.cwd().parent\n",
    "SCRIPT_DIR = PROJECT_ROOT / \"scripts\"\n",
    "if str(SCRIPT_DIR) not in sys.path:\n",
    "    sys.path.insert(0, str(SCRIPT_DIR))\n",
    "\n",
    "# ✅ Imports\n",
    "import numpy as np\n",
    "from linear_algebra_utils import (\n",
    "    dot_product, matmul_product, transpose,\n",
    "    compute_inverse, compute_determinant, compute_rank,\n",
    "    eigen_decomposition,\n",
    "    l2_norm, l1_norm,\n",
    "    solve_system,\n",
    "    compute_svd,\n",
    "    pseudo_inverse,\n",
    "    print_matrix_with_header\n",
    ")\n",
    "\n",
    "print(\"📐 NumPy Linear Algebra Essentials\\n\")"
   ]
  },
  {
   "cell_type": "code",
   "execution_count": 2,
   "id": "5ec3098f",
   "metadata": {},
   "outputs": [
    {
     "name": "stdout",
     "output_type": "stream",
     "text": [
      "Dot product (1D): 32\n",
      "Using @ operator: 32\n",
      "\n",
      "Dot product (2D):\n",
      " [[19 22]\n",
      " [43 50]]\n",
      "Using matmul():\n",
      " [[19 22]\n",
      " [43 50]]\n"
     ]
    }
   ],
   "source": [
    "# ✅ 1. Dot product (1D & 2D)\n",
    "a = np.array([1, 2, 3])\n",
    "b = np.array([4, 5, 6])\n",
    "print(\"Dot product (1D):\", dot_product(a, b))\n",
    "print(\"Using @ operator:\", a @ b)\n",
    "\n",
    "mat1 = np.array([[1, 2], [3, 4]])\n",
    "mat2 = np.array([[5, 6], [7, 8]])\n",
    "print(\"\\nDot product (2D):\\n\", dot_product(mat1, mat2))\n",
    "print(\"Using matmul():\\n\", matmul_product(mat1, mat2))"
   ]
  },
  {
   "cell_type": "code",
   "execution_count": 3,
   "id": "6f18d878",
   "metadata": {},
   "outputs": [
    {
     "name": "stdout",
     "output_type": "stream",
     "text": [
      "\n",
      "🧾 Original Matrix:\n",
      "[[1 2]\n",
      " [3 4]]\n",
      "\n",
      "🧾 Transpose:\n",
      "[[1 3]\n",
      " [2 4]]\n"
     ]
    }
   ],
   "source": [
    "# ✅ 2. Matrix transpose\n",
    "print_matrix_with_header(mat1, \"Original Matrix\")\n",
    "print_matrix_with_header(transpose(mat1), \"Transpose\")"
   ]
  },
  {
   "cell_type": "code",
   "execution_count": 4,
   "id": "5e4302ce",
   "metadata": {},
   "outputs": [
    {
     "name": "stdout",
     "output_type": "stream",
     "text": [
      "\n",
      "🧾 Matrix:\n",
      "[[2 1]\n",
      " [5 3]]\n",
      "\n",
      "🧾 Inverse:\n",
      "[[ 3. -1.]\n",
      " [-5.  2.]]\n"
     ]
    }
   ],
   "source": [
    "# ✅ 3. Matrix inverse\n",
    "square = np.array([[2, 1], [5, 3]])\n",
    "print_matrix_with_header(square, \"Matrix\")\n",
    "print_matrix_with_header(compute_inverse(square), \"Inverse\")"
   ]
  },
  {
   "cell_type": "code",
   "execution_count": 5,
   "id": "05dabe43",
   "metadata": {},
   "outputs": [
    {
     "name": "stdout",
     "output_type": "stream",
     "text": [
      "Determinant: 1.0000000000000002\n"
     ]
    }
   ],
   "source": [
    "# ✅ 4. Matrix determinant\n",
    "print(\"Determinant:\", compute_determinant(square))"
   ]
  },
  {
   "cell_type": "code",
   "execution_count": 6,
   "id": "91609a2f",
   "metadata": {},
   "outputs": [
    {
     "name": "stdout",
     "output_type": "stream",
     "text": [
      "Rank: 2\n"
     ]
    }
   ],
   "source": [
    "# ✅ 5. Matrix rank\n",
    "print(\"Rank:\", compute_rank(square))"
   ]
  },
  {
   "cell_type": "code",
   "execution_count": 7,
   "id": "e0f5f0fd",
   "metadata": {},
   "outputs": [
    {
     "name": "stdout",
     "output_type": "stream",
     "text": [
      "\n",
      "Eigenvalues: [0.20871215 4.79128785]\n",
      "Eigenvectors:\n",
      " [[-0.48744474 -0.33726692]\n",
      " [ 0.87315384 -0.94140906]]\n"
     ]
    }
   ],
   "source": [
    "# ✅ 6. Eigenvalues and Eigenvectors\n",
    "eig_vals, eig_vecs = eigen_decomposition(square)\n",
    "print(\"\\nEigenvalues:\", eig_vals)\n",
    "print(\"Eigenvectors:\\n\", eig_vecs)"
   ]
  },
  {
   "cell_type": "code",
   "execution_count": 8,
   "id": "3bc33a80",
   "metadata": {},
   "outputs": [
    {
     "name": "stdout",
     "output_type": "stream",
     "text": [
      "\n",
      "L2 Norm (Euclidean): 5.0\n",
      "L1 Norm: 7.0\n"
     ]
    }
   ],
   "source": [
    "# ✅ 7. Norms\n",
    "v = np.array([3, 4])\n",
    "print(\"\\nL2 Norm (Euclidean):\", l2_norm(v))\n",
    "print(\"L1 Norm:\", l1_norm(v))"
   ]
  },
  {
   "cell_type": "code",
   "execution_count": 9,
   "id": "ca9c0260",
   "metadata": {},
   "outputs": [
    {
     "name": "stdout",
     "output_type": "stream",
     "text": [
      "\n",
      "Solving Ax = b\n",
      "\n",
      "🧾 A:\n",
      "[[2 1]\n",
      " [1 3]]\n",
      "b: [ 8 13]\n",
      "x: [2.2 3.6]\n"
     ]
    }
   ],
   "source": [
    "# ✅ 8. Solving linear systems\n",
    "A = np.array([[2, 1], [1, 3]])\n",
    "b_vec = np.array([8, 13])\n",
    "x = solve_system(A, b_vec)\n",
    "print(\"\\nSolving Ax = b\")\n",
    "print_matrix_with_header(A, \"A\")\n",
    "print(\"b:\", b_vec)\n",
    "print(\"x:\", x)  # Should satisfy Ax ≈ b"
   ]
  },
  {
   "cell_type": "code",
   "execution_count": 10,
   "id": "13c6244b",
   "metadata": {},
   "outputs": [
    {
     "name": "stdout",
     "output_type": "stream",
     "text": [
      "\n",
      "🧾 Matrix X:\n",
      "[[ 3  1  1]\n",
      " [-1  3  1]]\n",
      "\n",
      "🧾 U (Left Singular Vectors):\n",
      "[[-0.70710678 -0.70710678]\n",
      " [-0.70710678  0.70710678]]\n",
      "Singular values: [3.46410162 3.16227766]\n",
      "\n",
      "🧾 VT (Right Singular Vectors Transposed):\n",
      "[[-4.08248290e-01 -8.16496581e-01 -4.08248290e-01]\n",
      " [-8.94427191e-01  4.47213595e-01  5.27355937e-16]\n",
      " [-1.82574186e-01 -3.65148372e-01  9.12870929e-01]]\n"
     ]
    }
   ],
   "source": [
    "# ✅ 9. Singular Value Decomposition (SVD)\n",
    "X = np.array([[3, 1, 1], [-1, 3, 1]])\n",
    "U, S, VT = compute_svd(X)\n",
    "print_matrix_with_header(X, \"Matrix X\")\n",
    "print_matrix_with_header(U, \"U (Left Singular Vectors)\")\n",
    "print(\"Singular values:\", S)\n",
    "print_matrix_with_header(VT, \"VT (Right Singular Vectors Transposed)\")"
   ]
  },
  {
   "cell_type": "code",
   "execution_count": 11,
   "id": "2e780001",
   "metadata": {},
   "outputs": [
    {
     "name": "stdout",
     "output_type": "stream",
     "text": [
      "\n",
      "🧾 Pseudo-Inverse of X:\n",
      "[[ 0.28333333 -0.11666667]\n",
      " [ 0.06666667  0.26666667]\n",
      " [ 0.08333333  0.08333333]]\n"
     ]
    }
   ],
   "source": [
    "# ✅ 10. Pseudo-inverse\n",
    "print_matrix_with_header(pseudo_inverse(X), \"Pseudo-Inverse of X\")"
   ]
  },
  {
   "cell_type": "code",
   "execution_count": 12,
   "id": "85b97d31",
   "metadata": {},
   "outputs": [
    {
     "name": "stdout",
     "output_type": "stream",
     "text": [
      "\n",
      "Trace of matrix: 5\n"
     ]
    }
   ],
   "source": [
    "# ✅ 11. Trace of a matrix\n",
    "trace_val = np.trace(square)\n",
    "print(\"\\nTrace of matrix:\", trace_val)"
   ]
  },
  {
   "cell_type": "code",
   "execution_count": 13,
   "id": "ed2189b9",
   "metadata": {},
   "outputs": [
    {
     "name": "stdout",
     "output_type": "stream",
     "text": [
      "\n",
      "🧾 Diagonal Matrix:\n",
      "[[10  0  0]\n",
      " [ 0 20  0]\n",
      " [ 0  0 30]]\n",
      "\n",
      "🧾 Identity Matrix (3x3):\n",
      "[[1. 0. 0.]\n",
      " [0. 1. 0.]\n",
      " [0. 0. 1.]]\n"
     ]
    }
   ],
   "source": [
    "# ✅ 12. Diagonal & identity matrix\n",
    "diag_elements = np.diag([10, 20, 30])\n",
    "identity_matrix = np.eye(3)\n",
    "\n",
    "print_matrix_with_header(diag_elements, \"Diagonal Matrix\")\n",
    "print_matrix_with_header(identity_matrix, \"Identity Matrix (3x3)\")"
   ]
  },
  {
   "cell_type": "code",
   "execution_count": 14,
   "id": "c4db05df",
   "metadata": {},
   "outputs": [
    {
     "name": "stdout",
     "output_type": "stream",
     "text": [
      "\n",
      "🧾 Rank-1 Update via Outer Product (u @ v):\n",
      "[[ 4  5  6]\n",
      " [ 8 10 12]\n",
      " [12 15 18]]\n"
     ]
    }
   ],
   "source": [
    "# ✅ 13. Rank-1 update (outer product)\n",
    "u = np.array([[1], [2], [3]])  # shape (3,1)\n",
    "v = np.array([[4, 5, 6]])      # shape (1,3)\n",
    "rank1_update = np.dot(u, v)\n",
    "print_matrix_with_header(rank1_update, \"Rank-1 Update via Outer Product (u @ v)\")"
   ]
  },
  {
   "cell_type": "code",
   "execution_count": 15,
   "id": "223ad12b",
   "metadata": {},
   "outputs": [
    {
     "name": "stdout",
     "output_type": "stream",
     "text": [
      "\n",
      "Is symmetric matrix: True\n",
      "Is orthogonal matrix (QR-Q): True\n"
     ]
    }
   ],
   "source": [
    "# ✅ 14. Check symmetric & orthogonal\n",
    "sym_matrix = np.array([[1, 2], [2, 1]])\n",
    "is_symmetric = np.allclose(sym_matrix, sym_matrix.T)\n",
    "print(\"\\nIs symmetric matrix:\", is_symmetric)\n",
    "\n",
    "# Orthogonal: A.T @ A = I\n",
    "Q, _ = np.linalg.qr(np.random.rand(3, 3))\n",
    "is_orthogonal = np.allclose(Q.T @ Q, np.eye(3))\n",
    "print(\"Is orthogonal matrix (QR-Q):\", is_orthogonal)"
   ]
  },
  {
   "cell_type": "code",
   "execution_count": 16,
   "id": "577edddd",
   "metadata": {},
   "outputs": [
    {
     "name": "stdout",
     "output_type": "stream",
     "text": [
      "\n",
      "🧾 Q from QR Decomposition:\n",
      "[[-0.9486833   0.31622777]\n",
      " [ 0.31622777  0.9486833 ]]\n",
      "\n",
      "🧾 R from QR Decomposition:\n",
      "[[-3.16227766e+00 -6.41188131e-17 -6.32455532e-01]\n",
      " [ 0.00000000e+00  3.16227766e+00  1.26491106e+00]]\n"
     ]
    }
   ],
   "source": [
    "# ✅ 15. QR Decomposition\n",
    "Q, R = np.linalg.qr(X)\n",
    "print_matrix_with_header(Q, \"Q from QR Decomposition\")\n",
    "print_matrix_with_header(R, \"R from QR Decomposition\")"
   ]
  }
 ],
 "metadata": {
  "kernelspec": {
   "display_name": "numpy_env",
   "language": "python",
   "name": "python3"
  },
  "language_info": {
   "codemirror_mode": {
    "name": "ipython",
    "version": 3
   },
   "file_extension": ".py",
   "mimetype": "text/x-python",
   "name": "python",
   "nbconvert_exporter": "python",
   "pygments_lexer": "ipython3",
   "version": "3.11.5"
  }
 },
 "nbformat": 4,
 "nbformat_minor": 5
}
