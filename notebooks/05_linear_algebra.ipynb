{
 "cells": [
  {
   "cell_type": "markdown",
   "id": "172f7c99",
   "metadata": {},
   "source": [
    "# 🧩 Title: Linear Algebra with NumPy"
   ]
  },
  {
   "cell_type": "code",
   "execution_count": 1,
   "id": "4798b184",
   "metadata": {},
   "outputs": [
    {
     "name": "stdout",
     "output_type": "stream",
     "text": [
      "📐 NumPy Linear Algebra Essentials\n",
      "\n"
     ]
    }
   ],
   "source": [
    "import numpy as np\n",
    "print(\"📐 NumPy Linear Algebra Essentials\\n\")"
   ]
  },
  {
   "cell_type": "code",
   "execution_count": 2,
   "id": "5ec3098f",
   "metadata": {},
   "outputs": [
    {
     "name": "stdout",
     "output_type": "stream",
     "text": [
      "Dot product (1D): 32\n",
      "Using @ operator: 32\n",
      "\n",
      "Dot product (2D):\n",
      " [[19 22]\n",
      " [43 50]]\n",
      "Using matmul():\n",
      " [[19 22]\n",
      " [43 50]]\n"
     ]
    }
   ],
   "source": [
    "# ✅ 1. Dot product (1D & 2D)\n",
    "a = np.array([1, 2, 3])\n",
    "b = np.array([4, 5, 6])\n",
    "print(\"Dot product (1D):\", np.dot(a, b))\n",
    "print(\"Using @ operator:\", a @ b)\n",
    "\n",
    "mat1 = np.array([[1, 2], [3, 4]])\n",
    "mat2 = np.array([[5, 6], [7, 8]])\n",
    "print(\"\\nDot product (2D):\\n\", np.dot(mat1, mat2))\n",
    "print(\"Using matmul():\\n\", np.matmul(mat1, mat2))"
   ]
  },
  {
   "cell_type": "code",
   "execution_count": 3,
   "id": "6f18d878",
   "metadata": {},
   "outputs": [
    {
     "name": "stdout",
     "output_type": "stream",
     "text": [
      "\n",
      "Original matrix:\n",
      " [[1 2]\n",
      " [3 4]]\n",
      "Transpose:\n",
      " [[1 3]\n",
      " [2 4]]\n"
     ]
    }
   ],
   "source": [
    "\n",
    "# ✅ 2. Matrix transpose\n",
    "print(\"\\nOriginal matrix:\\n\", mat1)\n",
    "print(\"Transpose:\\n\", mat1.T)"
   ]
  },
  {
   "cell_type": "code",
   "execution_count": 4,
   "id": "5e4302ce",
   "metadata": {},
   "outputs": [
    {
     "name": "stdout",
     "output_type": "stream",
     "text": [
      "\n",
      "Matrix:\n",
      " [[2 1]\n",
      " [5 3]]\n",
      "Inverse:\n",
      " [[ 3. -1.]\n",
      " [-5.  2.]]\n"
     ]
    }
   ],
   "source": [
    "# ✅ 3. Matrix inverse\n",
    "square = np.array([[2, 1], [5, 3]])\n",
    "inv = np.linalg.inv(square)\n",
    "print(\"\\nMatrix:\\n\", square)\n",
    "print(\"Inverse:\\n\", inv)\n"
   ]
  },
  {
   "cell_type": "code",
   "execution_count": 5,
   "id": "05dabe43",
   "metadata": {},
   "outputs": [
    {
     "name": "stdout",
     "output_type": "stream",
     "text": [
      "Determinant: 1.0000000000000002\n"
     ]
    }
   ],
   "source": [
    "# ✅ 4. Matrix determinant\n",
    "det = np.linalg.det(square)\n",
    "print(\"Determinant:\", det)"
   ]
  },
  {
   "cell_type": "code",
   "execution_count": 6,
   "id": "91609a2f",
   "metadata": {},
   "outputs": [
    {
     "name": "stdout",
     "output_type": "stream",
     "text": [
      "Rank: 2\n"
     ]
    }
   ],
   "source": [
    "# ✅ 5. Matrix rank\n",
    "rank = np.linalg.matrix_rank(square)\n",
    "print(\"Rank:\", rank)"
   ]
  },
  {
   "cell_type": "code",
   "execution_count": 7,
   "id": "e0f5f0fd",
   "metadata": {},
   "outputs": [
    {
     "name": "stdout",
     "output_type": "stream",
     "text": [
      "\n",
      "Eigenvalues: [0.20871215 4.79128785]\n",
      "Eigenvectors:\n",
      " [[-0.48744474 -0.33726692]\n",
      " [ 0.87315384 -0.94140906]]\n"
     ]
    }
   ],
   "source": [
    "# ✅ 6. Eigenvalues and Eigenvectors\n",
    "eig_vals, eig_vecs = np.linalg.eig(square)\n",
    "print(\"\\nEigenvalues:\", eig_vals)\n",
    "print(\"Eigenvectors:\\n\", eig_vecs)"
   ]
  },
  {
   "cell_type": "code",
   "execution_count": 8,
   "id": "3bc33a80",
   "metadata": {},
   "outputs": [
    {
     "name": "stdout",
     "output_type": "stream",
     "text": [
      "\n",
      "L2 Norm (Euclidean): 5.0\n",
      "L1 Norm: 7.0\n"
     ]
    }
   ],
   "source": [
    "# ✅ 7. Norms\n",
    "v = np.array([3, 4])\n",
    "print(\"\\nL2 Norm (Euclidean):\", np.linalg.norm(v))\n",
    "print(\"L1 Norm:\", np.linalg.norm(v, ord=1))"
   ]
  },
  {
   "cell_type": "code",
   "execution_count": 9,
   "id": "ca9c0260",
   "metadata": {},
   "outputs": [
    {
     "name": "stdout",
     "output_type": "stream",
     "text": [
      "\n",
      "Solving Ax = b\n",
      "A:\n",
      " [[2 1]\n",
      " [1 3]]\n",
      "b: [ 8 13]\n",
      "x: [2.2 3.6]\n"
     ]
    }
   ],
   "source": [
    "# ✅ 8. Solving linear systems\n",
    "# Solve: Ax = b\n",
    "A = np.array([[2, 1], [1, 3]])\n",
    "b = np.array([8, 13])\n",
    "x = np.linalg.solve(A, b)\n",
    "print(\"\\nSolving Ax = b\")\n",
    "print(\"A:\\n\", A)\n",
    "print(\"b:\", b)\n",
    "print(\"x:\", x)  # should satisfy Ax ≈ b"
   ]
  },
  {
   "cell_type": "code",
   "execution_count": 10,
   "id": "13c6244b",
   "metadata": {},
   "outputs": [
    {
     "name": "stdout",
     "output_type": "stream",
     "text": [
      "\n",
      "Matrix X:\n",
      " [[ 3  1  1]\n",
      " [-1  3  1]]\n",
      "U:\n",
      " [[-0.70710678 -0.70710678]\n",
      " [-0.70710678  0.70710678]]\n",
      "Singular values: [3.46410162 3.16227766]\n",
      "VT:\n",
      " [[-4.08248290e-01 -8.16496581e-01 -4.08248290e-01]\n",
      " [-8.94427191e-01  4.47213595e-01  5.27355937e-16]\n",
      " [-1.82574186e-01 -3.65148372e-01  9.12870929e-01]]\n"
     ]
    }
   ],
   "source": [
    "# ✅ 9. Singular Value Decomposition (SVD)\n",
    "X = np.array([[3, 1, 1], [-1, 3, 1]])\n",
    "U, S, VT = np.linalg.svd(X)\n",
    "print(\"\\nMatrix X:\\n\", X)\n",
    "print(\"U:\\n\", U)\n",
    "print(\"Singular values:\", S)\n",
    "print(\"VT:\\n\", VT)"
   ]
  },
  {
   "cell_type": "code",
   "execution_count": 11,
   "id": "2e780001",
   "metadata": {},
   "outputs": [
    {
     "name": "stdout",
     "output_type": "stream",
     "text": [
      "\n",
      "Pseudo-inverse of X:\n",
      " [[ 0.28333333 -0.11666667]\n",
      " [ 0.06666667  0.26666667]\n",
      " [ 0.08333333  0.08333333]]\n"
     ]
    }
   ],
   "source": [
    "# ✅ 10. Pseudo-inverse (Moore-Penrose)\n",
    "X_pinv = np.linalg.pinv(X)\n",
    "print(\"\\nPseudo-inverse of X:\\n\", X_pinv)"
   ]
  }
 ],
 "metadata": {
  "kernelspec": {
   "display_name": "numpy-env",
   "language": "python",
   "name": "python3"
  },
  "language_info": {
   "codemirror_mode": {
    "name": "ipython",
    "version": 3
   },
   "file_extension": ".py",
   "mimetype": "text/x-python",
   "name": "python",
   "nbconvert_exporter": "python",
   "pygments_lexer": "ipython3",
   "version": "3.11.11"
  }
 },
 "nbformat": 4,
 "nbformat_minor": 5
}
