{
 "cells": [
  {
   "cell_type": "markdown",
   "id": "0c95dd15",
   "metadata": {},
   "source": [
    "# 🧩 Notebook-07: Masking, Conditions, and Logical Operations in NumPy"
   ]
  },
  {
   "cell_type": "code",
   "execution_count": 1,
   "id": "b21f0622",
   "metadata": {},
   "outputs": [
    {
     "name": "stdout",
     "output_type": "stream",
     "text": [
      "🧠 NumPy Masking & Conditional Logic (Advanced)\n",
      "\n"
     ]
    }
   ],
   "source": [
    "import numpy as np\n",
    "import numpy.ma as ma\n",
    "\n",
    "# ✅ Setup path to import from scripts\n",
    "import sys\n",
    "from pathlib import Path\n",
    "\n",
    "PROJECT_ROOT = Path.cwd().parent\n",
    "SCRIPT_DIR = PROJECT_ROOT / \"scripts\"\n",
    "if str(SCRIPT_DIR) not in sys.path:\n",
    "    sys.path.insert(0, str(SCRIPT_DIR))\n",
    "\n",
    "# ✅ Import custom logic utilities\n",
    "from logical_utils import filter_valid_positive, classify_scores\n",
    "\n",
    "print(\"🧠 NumPy Masking & Conditional Logic (Advanced)\\n\")"
   ]
  },
  {
   "cell_type": "code",
   "execution_count": 2,
   "id": "0a8636aa",
   "metadata": {},
   "outputs": [
    {
     "name": "stdout",
     "output_type": "stream",
     "text": [
      "Original array: [3 7 1 8 5]\n",
      "Mask (arr > 4): [False  True False  True  True]\n",
      "Filtered values: [7 8 5]\n"
     ]
    }
   ],
   "source": [
    "# ✅ 1. Basic Boolean Masking\n",
    "arr = np.array([3, 7, 1, 8, 5])\n",
    "mask = arr > 4\n",
    "print(\"Original array:\", arr)\n",
    "print(\"Mask (arr > 4):\", mask)\n",
    "print(\"Filtered values:\", arr[mask])"
   ]
  },
  {
   "cell_type": "code",
   "execution_count": 3,
   "id": "d4765237",
   "metadata": {},
   "outputs": [
    {
     "name": "stdout",
     "output_type": "stream",
     "text": [
      "\n",
      "Grades: [82 59 90 68 45]\n",
      "Pass/Fail status: ['Pass' 'Fail' 'Pass' 'Pass' 'Fail']\n"
     ]
    }
   ],
   "source": [
    "# ✅ 2. np.where() — Conditional Replacement\n",
    "grades = np.array([82, 59, 90, 68, 45])\n",
    "status = np.where(grades >= 60, \"Pass\", \"Fail\")\n",
    "print(\"\\nGrades:\", grades)\n",
    "print(\"Pass/Fail status:\", status)"
   ]
  },
  {
   "cell_type": "code",
   "execution_count": 4,
   "id": "2844563b",
   "metadata": {},
   "outputs": [
    {
     "name": "stdout",
     "output_type": "stream",
     "text": [
      "Detailed classification (via function): ['Average' 'Fail' 'Excellent' 'Average' 'Fail']\n"
     ]
    }
   ],
   "source": [
    "# ✅ 3. np.select() — Now using utility function\n",
    "detailed_status = classify_scores(grades)\n",
    "print(\"Detailed classification (via function):\", detailed_status)"
   ]
  },
  {
   "cell_type": "code",
   "execution_count": 5,
   "id": "2679c80f",
   "metadata": {},
   "outputs": [
    {
     "name": "stdout",
     "output_type": "stream",
     "text": [
      "\n",
      "Any non-zero: True\n",
      "All non-zero: False\n"
     ]
    }
   ],
   "source": [
    "# ✅ 4. np.any() and np.all()\n",
    "a = np.array([1, 2, 3, 0])\n",
    "print(\"\\nAny non-zero:\", np.any(a))\n",
    "print(\"All non-zero:\", np.all(a))"
   ]
  },
  {
   "cell_type": "code",
   "execution_count": 6,
   "id": "ad66631c",
   "metadata": {},
   "outputs": [
    {
     "name": "stdout",
     "output_type": "stream",
     "text": [
      "\n",
      "Failing grades mask: [False  True False False  True]\n",
      "Indices of fails: (array([1, 4]),)\n",
      "Number of fails: 2\n"
     ]
    }
   ],
   "source": [
    "# ✅ 5. np.nonzero() and np.count_nonzero()\n",
    "mask = grades < 60\n",
    "print(\"\\nFailing grades mask:\", mask)\n",
    "print(\"Indices of fails:\", np.nonzero(mask))\n",
    "print(\"Number of fails:\", np.count_nonzero(mask))"
   ]
  },
  {
   "cell_type": "code",
   "execution_count": 7,
   "id": "ed372dc9",
   "metadata": {},
   "outputs": [
    {
     "name": "stdout",
     "output_type": "stream",
     "text": [
      "\n",
      "(arr1 > 2) & (arr1 < 5): [3 4]\n",
      "(arr1 < 2) | (arr1 > 4): [1 5]\n",
      "~(arr1 > 3): [1 2 3]\n"
     ]
    }
   ],
   "source": [
    "# ✅ 6. Logical Operators: &, |, ~\n",
    "arr1 = np.array([1, 2, 3, 4, 5])\n",
    "print(\"\\n(arr1 > 2) & (arr1 < 5):\", arr1[(arr1 > 2) & (arr1 < 5)])\n",
    "print(\"(arr1 < 2) | (arr1 > 4):\", arr1[(arr1 < 2) | (arr1 > 4)])\n",
    "print(\"~(arr1 > 3):\", arr1[~(arr1 > 3)])"
   ]
  },
  {
   "cell_type": "code",
   "execution_count": 8,
   "id": "9407d679",
   "metadata": {},
   "outputs": [
    {
     "name": "stdout",
     "output_type": "stream",
     "text": [
      "\n",
      "Array: [  1.  nan  inf   2. -inf]\n",
      "isfinite: [ True False False  True False]\n",
      "isnan: [False  True False False False]\n",
      "isinf: [False False  True False  True]\n",
      "isclose (to 2): [False False False  True False]\n"
     ]
    }
   ],
   "source": [
    "# ✅ 7. np.isfinite(), np.isnan(), np.isinf(), np.isclose()\n",
    "arr2 = np.array([1.0, np.nan, np.inf, 2.0, -np.inf])\n",
    "print(\"\\nArray:\", arr2)\n",
    "print(\"isfinite:\", np.isfinite(arr2))\n",
    "print(\"isnan:\", np.isnan(arr2))\n",
    "print(\"isinf:\", np.isinf(arr2))\n",
    "print(\"isclose (to 2):\", np.isclose(arr2, 2))"
   ]
  },
  {
   "cell_type": "code",
   "execution_count": 9,
   "id": "e1e47e93",
   "metadata": {},
   "outputs": [
    {
     "name": "stdout",
     "output_type": "stream",
     "text": [
      "\n",
      "Raw data: [ 5. -1.  7. nan inf]\n",
      "Cleaned data (via function): [5. 7.]\n"
     ]
    }
   ],
   "source": [
    "# ✅ 8. Chaining masks for data cleaning — now using utility\n",
    "raw = np.array([5, -1, 7, np.nan, np.inf])\n",
    "clean = filter_valid_positive(raw)\n",
    "print(\"\\nRaw data:\", raw)\n",
    "print(\"Cleaned data (via function):\", clean)"
   ]
  },
  {
   "cell_type": "code",
   "execution_count": 10,
   "id": "e1a1d5aa",
   "metadata": {},
   "outputs": [
    {
     "name": "stdout",
     "output_type": "stream",
     "text": [
      "\n",
      "Temperatures: [32 45 60 75 90]\n",
      "Weather categories: ['Cold' 'Cold' 'Warm' 'Warm' 'Hot']\n"
     ]
    }
   ],
   "source": [
    "# ✅ 9. Layered Classification using np.where()\n",
    "temps = np.array([32, 45, 60, 75, 90])\n",
    "labels = np.where(temps < 50, \"Cold\", np.where(temps < 80, \"Warm\", \"Hot\"))\n",
    "print(\"\\nTemperatures:\", temps)\n",
    "print(\"Weather categories:\", labels)"
   ]
  },
  {
   "cell_type": "code",
   "execution_count": 11,
   "id": "61cc7c8f",
   "metadata": {},
   "outputs": [
    {
     "name": "stdout",
     "output_type": "stream",
     "text": [
      "\n",
      "Matrix:\n",
      " [[10 50]\n",
      " [70 30]]\n",
      "Mask (matrix > 40):\n",
      " [[False  True]\n",
      " [ True False]]\n",
      "Filtered Values: [50 70]\n"
     ]
    }
   ],
   "source": [
    "# ✅ 10. Boolean Masking on 2D Array\n",
    "matrix = np.array([[10, 50], [70, 30]])\n",
    "mask2d = matrix > 40\n",
    "print(\"\\nMatrix:\\n\", matrix)\n",
    "print(\"Mask (matrix > 40):\\n\", mask2d)\n",
    "print(\"Filtered Values:\", matrix[mask2d])"
   ]
  },
  {
   "cell_type": "code",
   "execution_count": 12,
   "id": "b063272b",
   "metadata": {},
   "outputs": [
    {
     "name": "stdout",
     "output_type": "stream",
     "text": [
      "\n",
      "Original with NaNs: [10. nan 30. nan 50.]\n",
      "Imputed Data: [10. 30. 30. 30. 50.]\n"
     ]
    }
   ],
   "source": [
    "# ✅ 11. Impute Missing Values with Mean using np.where()\n",
    "data = np.array([10.0, np.nan, 30.0, np.nan, 50.0])\n",
    "imputed = np.where(np.isnan(data), np.nanmean(data), data)\n",
    "print(\"\\nOriginal with NaNs:\", data)\n",
    "print(\"Imputed Data:\", imputed)"
   ]
  },
  {
   "cell_type": "code",
   "execution_count": 13,
   "id": "6da10c18",
   "metadata": {},
   "outputs": [
    {
     "name": "stdout",
     "output_type": "stream",
     "text": [
      "\n",
      "Income: [40000 60000 75000 30000]\n",
      "Age: [25 35 45 22]\n",
      "Selected segment: [False  True False False]\n"
     ]
    }
   ],
   "source": [
    "# ✅ 12. Segmenting with Compound Logic\n",
    "income = np.array([40000, 60000, 75000, 30000])\n",
    "age = np.array([25, 35, 45, 22])\n",
    "mask = (income > 50000) & (age < 40)\n",
    "print(\"\\nIncome:\", income)\n",
    "print(\"Age:\", age)\n",
    "print(\"Selected segment:\", mask)"
   ]
  },
  {
   "cell_type": "code",
   "execution_count": 14,
   "id": "74a93473",
   "metadata": {},
   "outputs": [
    {
     "name": "stdout",
     "output_type": "stream",
     "text": [
      "\n",
      "Masked array (< 0): [1 2 -- 3]\n"
     ]
    }
   ],
   "source": [
    "# ✅ 13. Masked Arrays (numpy.ma)\n",
    "arr = np.array([1, 2, -1, 3])\n",
    "masked = ma.masked_less(arr, 0)\n",
    "print(\"\\nMasked array (< 0):\", masked)"
   ]
  },
  {
   "cell_type": "code",
   "execution_count": 15,
   "id": "89fed04b",
   "metadata": {},
   "outputs": [
    {
     "name": "stdout",
     "output_type": "stream",
     "text": [
      "\n",
      "Sample filtered large array (first 5): [74 83 54 51 76]\n"
     ]
    }
   ],
   "source": [
    "# ✅ 14. Performance Check\n",
    "large_arr = np.random.randint(0, 100, size=1_000_000)\n",
    "filtered = large_arr[large_arr > 50]\n",
    "print(\"\\nSample filtered large array (first 5):\", filtered[:5])"
   ]
  }
 ],
 "metadata": {
  "kernelspec": {
   "display_name": "numpy_env",
   "language": "python",
   "name": "python3"
  },
  "language_info": {
   "codemirror_mode": {
    "name": "ipython",
    "version": 3
   },
   "file_extension": ".py",
   "mimetype": "text/x-python",
   "name": "python",
   "nbconvert_exporter": "python",
   "pygments_lexer": "ipython3",
   "version": "3.11.5"
  }
 },
 "nbformat": 4,
 "nbformat_minor": 5
}
