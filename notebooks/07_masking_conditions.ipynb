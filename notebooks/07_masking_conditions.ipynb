{
 "cells": [
  {
   "cell_type": "markdown",
   "id": "0c95dd15",
   "metadata": {},
   "source": [
    "# 🧩 Title: Masking, Conditions, and Logical Operations in NumPy"
   ]
  },
  {
   "cell_type": "code",
   "execution_count": 1,
   "id": "b21f0622",
   "metadata": {},
   "outputs": [
    {
     "name": "stdout",
     "output_type": "stream",
     "text": [
      "🧠 NumPy Masking & Conditional Logic\n",
      "\n"
     ]
    }
   ],
   "source": [
    "import numpy as np\n",
    "print(\"🧠 NumPy Masking & Conditional Logic\\n\")"
   ]
  },
  {
   "cell_type": "code",
   "execution_count": 2,
   "id": "0a8636aa",
   "metadata": {},
   "outputs": [
    {
     "name": "stdout",
     "output_type": "stream",
     "text": [
      "Original array: [3 7 1 8 5]\n",
      "Mask (arr > 4): [False  True False  True  True]\n",
      "Filtered values: [7 8 5]\n"
     ]
    }
   ],
   "source": [
    "# ✅ 1. Boolean masking\n",
    "arr = np.array([3, 7, 1, 8, 5])\n",
    "mask = arr > 4\n",
    "print(\"Original array:\", arr)\n",
    "print(\"Mask (arr > 4):\", mask)\n",
    "print(\"Filtered values:\", arr[mask])"
   ]
  },
  {
   "cell_type": "code",
   "execution_count": 3,
   "id": "d4765237",
   "metadata": {},
   "outputs": [
    {
     "name": "stdout",
     "output_type": "stream",
     "text": [
      "\n",
      "Grades: [82 59 90 68 45]\n",
      "Pass/Fail status: ['Pass' 'Fail' 'Pass' 'Pass' 'Fail']\n"
     ]
    }
   ],
   "source": [
    "# ✅ 2. np.where(condition, x, y)\n",
    "grades = np.array([82, 59, 90, 68, 45])\n",
    "status = np.where(grades >= 60, \"Pass\", \"Fail\")\n",
    "print(\"\\nGrades:\", grades)\n",
    "print(\"Pass/Fail status:\", status)"
   ]
  },
  {
   "cell_type": "code",
   "execution_count": 4,
   "id": "2844563b",
   "metadata": {},
   "outputs": [
    {
     "name": "stdout",
     "output_type": "stream",
     "text": [
      "Detailed classification: ['Average' 'Fail' 'Excellent' 'Average' 'Fail']\n"
     ]
    }
   ],
   "source": [
    "# ✅ 3. np.select() for multiple conditions\n",
    "conditions = [\n",
    "    grades >= 85,\n",
    "    grades >= 60\n",
    "]\n",
    "choices = [\"Excellent\", \"Average\"]\n",
    "results = np.select(conditions, choices, default=\"Fail\")\n",
    "print(\"Detailed classification:\", results)"
   ]
  },
  {
   "cell_type": "code",
   "execution_count": 5,
   "id": "2679c80f",
   "metadata": {},
   "outputs": [
    {
     "name": "stdout",
     "output_type": "stream",
     "text": [
      "\n",
      "Any non-zero: True\n",
      "All non-zero: False\n"
     ]
    }
   ],
   "source": [
    "# ✅ 4. np.any() and np.all()\n",
    "a = np.array([1, 2, 3, 0])\n",
    "print(\"\\nAny non-zero:\", np.any(a))\n",
    "print(\"All non-zero:\", np.all(a))"
   ]
  },
  {
   "cell_type": "code",
   "execution_count": 6,
   "id": "ad66631c",
   "metadata": {},
   "outputs": [
    {
     "name": "stdout",
     "output_type": "stream",
     "text": [
      "\n",
      "Failing grades mask: [False  True False False  True]\n",
      "Indices of fails: (array([1, 4]),)\n"
     ]
    }
   ],
   "source": [
    "# ✅ 5. np.nonzero()\n",
    "mask = grades < 60\n",
    "print(\"\\nFailing grades mask:\", mask)\n",
    "print(\"Indices of fails:\", np.nonzero(mask))"
   ]
  },
  {
   "cell_type": "code",
   "execution_count": 7,
   "id": "ed372dc9",
   "metadata": {},
   "outputs": [
    {
     "name": "stdout",
     "output_type": "stream",
     "text": [
      "Number of fails: 2\n"
     ]
    }
   ],
   "source": [
    "# ✅ 6. np.count_nonzero()\n",
    "print(\"Number of fails:\", np.count_nonzero(grades < 60))"
   ]
  },
  {
   "cell_type": "code",
   "execution_count": 8,
   "id": "9407d679",
   "metadata": {},
   "outputs": [
    {
     "name": "stdout",
     "output_type": "stream",
     "text": [
      "\n",
      "(arr1 > 2) & (arr1 < 5): [3 4]\n",
      "(arr1 < 2) | (arr1 > 4): [1 5]\n",
      "~(arr1 > 3): [1 2 3]\n"
     ]
    }
   ],
   "source": [
    "# ✅ 7. Logical operators: &, |, ~\n",
    "arr1 = np.array([1, 2, 3, 4, 5])\n",
    "print(\"\\n(arr1 > 2) & (arr1 < 5):\", arr1[(arr1 > 2) & (arr1 < 5)])\n",
    "print(\"(arr1 < 2) | (arr1 > 4):\", arr1[(arr1 < 2) | (arr1 > 4)])\n",
    "print(\"~(arr1 > 3):\", arr1[~(arr1 > 3)])"
   ]
  },
  {
   "cell_type": "code",
   "execution_count": 9,
   "id": "e1e47e93",
   "metadata": {},
   "outputs": [
    {
     "name": "stdout",
     "output_type": "stream",
     "text": [
      "\n",
      "Array: [  1.  nan  inf   2. -inf]\n",
      "isfinite: [ True False False  True False]\n",
      "isnan: [False  True False False False]\n",
      "isinf: [False False  True False  True]\n",
      "isclose (to 2): [False False False  True False]\n"
     ]
    }
   ],
   "source": [
    "# ✅ 8. np.isfinite(), np.isnan(), np.isinf(), np.isclose()\n",
    "arr2 = np.array([1.0, np.nan, np.inf, 2.0, -np.inf])\n",
    "print(\"\\nArray:\", arr2)\n",
    "print(\"isfinite:\", np.isfinite(arr2))\n",
    "print(\"isnan:\", np.isnan(arr2))\n",
    "print(\"isinf:\", np.isinf(arr2))\n",
    "print(\"isclose (to 2):\", np.isclose(arr2, 2))"
   ]
  },
  {
   "cell_type": "code",
   "execution_count": 10,
   "id": "e1a1d5aa",
   "metadata": {},
   "outputs": [
    {
     "name": "stdout",
     "output_type": "stream",
     "text": [
      "\n",
      "Raw data: [ 5. -1.  7. nan inf]\n",
      "Cleaned data: [5. 7.]\n"
     ]
    }
   ],
   "source": [
    "# ✅ 9. Chaining masks for data cleaning\n",
    "raw = np.array([5, -1, 7, np.nan, np.inf])\n",
    "clean = raw[np.isfinite(raw) & (raw > 0)]\n",
    "print(\"\\nRaw data:\", raw)\n",
    "print(\"Cleaned data:\", clean)"
   ]
  }
 ],
 "metadata": {
  "kernelspec": {
   "display_name": "numpy-env",
   "language": "python",
   "name": "python3"
  },
  "language_info": {
   "codemirror_mode": {
    "name": "ipython",
    "version": 3
   },
   "file_extension": ".py",
   "mimetype": "text/x-python",
   "name": "python",
   "nbconvert_exporter": "python",
   "pygments_lexer": "ipython3",
   "version": "3.11.11"
  }
 },
 "nbformat": 4,
 "nbformat_minor": 5
}
