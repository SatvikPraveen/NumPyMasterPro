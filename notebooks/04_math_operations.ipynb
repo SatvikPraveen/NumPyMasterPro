{
 "cells": [
  {
   "cell_type": "markdown",
   "id": "e610195f",
   "metadata": {},
   "source": [
    "# 🧩 Notebook-04: Math Operations, Aggregations, and Broadcasting"
   ]
  },
  {
   "cell_type": "code",
   "execution_count": 1,
   "id": "460b78f8",
   "metadata": {},
   "outputs": [
    {
     "name": "stdout",
     "output_type": "stream",
     "text": [
      "🧮 NumPy Math Operations, Aggregations & Broadcasting\n",
      "\n"
     ]
    }
   ],
   "source": [
    "import sys\n",
    "from pathlib import Path\n",
    "\n",
    "# ✅ Setup project path\n",
    "PROJECT_ROOT = Path.cwd().parent\n",
    "SCRIPT_DIR = PROJECT_ROOT / \"scripts\"\n",
    "if str(SCRIPT_DIR) not in sys.path:\n",
    "    sys.path.insert(0, str(SCRIPT_DIR))\n",
    "\n",
    "# ✅ Imports\n",
    "import numpy as np\n",
    "import pandas as pd\n",
    "\n",
    "from math_utils import (\n",
    "    add_arrays, subtract_arrays, multiply_arrays, divide_arrays, modulo_arrays, floor_divide_arrays,\n",
    "    power_array, round_array, floor_array, ceil_array, trunc_array,\n",
    "    exp_array, natural_log, base10_log,\n",
    "    sqrt_array, cbrt_array,\n",
    "    sin_array, cos_array, arcsin_array, to_degrees, to_radians,\n",
    "    clip_array, absolute_array, cumulative_sum, cumulative_product\n",
    ")\n",
    "\n",
    "from aggregation_utils import (\n",
    "    array_sum, array_mean, array_min, array_max, array_std, array_var,\n",
    "    axis_sum, axis_mean, axis_min, axis_max, axis_std, axis_var\n",
    ")\n",
    "\n",
    "print(\"🧮 NumPy Math Operations, Aggregations & Broadcasting\\n\")"
   ]
  },
  {
   "cell_type": "code",
   "execution_count": 2,
   "id": "520a0897",
   "metadata": {},
   "outputs": [
    {
     "name": "stdout",
     "output_type": "stream",
     "text": [
      "a + b: [5 7 9]\n",
      "a - b: [-3 -3 -3]\n",
      "a * b: [ 4 10 18]\n",
      "a / b: [0.25 0.4  0.5 ]\n",
      "a % b: [1 2 3]\n",
      "a // b: [0 0 0]\n",
      "a ** 2: [1 4 9]\n"
     ]
    }
   ],
   "source": [
    "# ✅ 1. Element-wise arithmetic\n",
    "a = np.array([1, 2, 3])\n",
    "b = np.array([4, 5, 6])\n",
    "print(\"a + b:\", add_arrays(a, b))\n",
    "print(\"a - b:\", subtract_arrays(a, b))\n",
    "print(\"a * b:\", multiply_arrays(a, b))\n",
    "print(\"a / b:\", divide_arrays(a, b))\n",
    "print(\"a % b:\", modulo_arrays(a, b))\n",
    "print(\"a // b:\", floor_divide_arrays(a, b))\n",
    "print(\"a ** 2:\", power_array(a, 2))"
   ]
  },
  {
   "cell_type": "code",
   "execution_count": 3,
   "id": "68f54091",
   "metadata": {},
   "outputs": [
    {
     "name": "stdout",
     "output_type": "stream",
     "text": [
      "\n",
      "Matrix:\n",
      " [[1 2 3]\n",
      " [4 5 6]]\n",
      "Sum: 21\n",
      "Mean: 3.5\n",
      "Min: 1\n",
      "Max: 6\n",
      "Std Dev: 1.707825127659933\n",
      "Variance: 2.9166666666666665\n"
     ]
    }
   ],
   "source": [
    "# ✅ 2. Aggregate functions\n",
    "mat = np.array([[1, 2, 3], [4, 5, 6]])\n",
    "print(\"\\nMatrix:\\n\", mat)\n",
    "print(\"Sum:\", array_sum(mat))\n",
    "print(\"Mean:\", array_mean(mat))\n",
    "print(\"Min:\", array_min(mat))\n",
    "print(\"Max:\", array_max(mat))\n",
    "print(\"Std Dev:\", array_std(mat))\n",
    "print(\"Variance:\", array_var(mat))"
   ]
  },
  {
   "cell_type": "code",
   "execution_count": 4,
   "id": "375cdc34",
   "metadata": {},
   "outputs": [
    {
     "name": "stdout",
     "output_type": "stream",
     "text": [
      "\n",
      "Sum along axis 0 (columns): [5 7 9]\n",
      "Sum along axis 1 (rows): [ 6 15]\n",
      "\n",
      "Mean along axis 0 (columns): [2.5 3.5 4.5]\n",
      "Mean along axis 1 (rows): [2. 5.]\n",
      "\n",
      "Min along axis 0 (columns): [1 2 3]\n",
      "Min along axis 1 (rows): [1 4]\n",
      "\n",
      "Max along axis 0 (columns): [4 5 6]\n",
      "Max along axis 1 (rows): [3 6]\n",
      "\n",
      "Std Dev along axis 0 (columns): [1.5 1.5 1.5]\n",
      "Std Dev along axis 1 (rows): [0.81649658 0.81649658]\n"
     ]
    }
   ],
   "source": [
    "# ✅ 3. Axis-based aggregations\n",
    "print(\"\\nSum along axis 0 (columns):\", axis_sum(mat, axis=0))\n",
    "print(\"Sum along axis 1 (rows):\", axis_sum(mat, axis=1))\n",
    "print(\"\\nMean along axis 0 (columns):\", axis_mean(mat, axis=0))\n",
    "print(\"Mean along axis 1 (rows):\", axis_mean(mat, axis=1))\n",
    "print(\"\\nMin along axis 0 (columns):\", axis_min(mat, axis=0))\n",
    "print(\"Min along axis 1 (rows):\", axis_min(mat, axis=1))\n",
    "print(\"\\nMax along axis 0 (columns):\", axis_max(mat, axis=0))\n",
    "print(\"Max along axis 1 (rows):\", axis_max(mat, axis=1))\n",
    "print(\"\\nStd Dev along axis 0 (columns):\", axis_std(mat, axis=0))\n",
    "print(\"Std Dev along axis 1 (rows):\", axis_std(mat, axis=1))"
   ]
  },
  {
   "cell_type": "code",
   "execution_count": 5,
   "id": "ad513bfe",
   "metadata": {},
   "outputs": [
    {
     "name": "stdout",
     "output_type": "stream",
     "text": [
      "\n",
      "Rounded (2 decimals): [1.23 5.68 9.88]\n",
      "Floor: [1. 5. 9.]\n",
      "Ceil: [ 2.  6. 10.]\n",
      "Trunc: [1. 5. 9.]\n"
     ]
    }
   ],
   "source": [
    "# ✅ 4. Rounding\n",
    "arr = np.array([1.234, 5.678, 9.876])\n",
    "print(\"\\nRounded (2 decimals):\", round_array(arr, 2))\n",
    "print(\"Floor:\", floor_array(arr))\n",
    "print(\"Ceil:\", ceil_array(arr))\n",
    "print(\"Trunc:\", trunc_array(arr))"
   ]
  },
  {
   "cell_type": "code",
   "execution_count": 6,
   "id": "38489797",
   "metadata": {},
   "outputs": [
    {
     "name": "stdout",
     "output_type": "stream",
     "text": [
      "\n",
      "Original: [1.         2.71828183 7.3890561 ]\n",
      "Natural log: [0. 1. 2.]\n",
      "Base-10 log: [0.         0.43429448 0.86858896]\n",
      "Exponential: [   2.71828183   15.15426224 1618.17799191]\n"
     ]
    }
   ],
   "source": [
    "# ✅ 5. Exponentials and logarithms\n",
    "arr = np.array([1, np.e, np.e**2])\n",
    "print(\"\\nOriginal:\", arr)\n",
    "print(\"Natural log:\", natural_log(arr))\n",
    "print(\"Base-10 log:\", base10_log(arr))\n",
    "print(\"Exponential:\", exp_array(arr))"
   ]
  },
  {
   "cell_type": "code",
   "execution_count": 7,
   "id": "ec33a9a2",
   "metadata": {},
   "outputs": [
    {
     "name": "stdout",
     "output_type": "stream",
     "text": [
      "\n",
      "Sqrt: [2. 3. 4.]\n",
      "Cube root: [1.58740105 2.08008382 2.5198421 ]\n",
      "Power (nums^3): [  64  729 4096]\n"
     ]
    }
   ],
   "source": [
    "# ✅ 6. Roots and powers\n",
    "nums = np.array([4, 9, 16])\n",
    "print(\"\\nSqrt:\", sqrt_array(nums))\n",
    "print(\"Cube root:\", cbrt_array(nums))\n",
    "print(\"Power (nums^3):\", power_array(nums, 3))"
   ]
  },
  {
   "cell_type": "code",
   "execution_count": 8,
   "id": "5ce5f592",
   "metadata": {},
   "outputs": [
    {
     "name": "stdout",
     "output_type": "stream",
     "text": [
      "\n",
      "Sine: [0.0000000e+00 1.0000000e+00 1.2246468e-16]\n",
      "Cosine: [ 1.000000e+00  6.123234e-17 -1.000000e+00]\n",
      "Arcsin(1): [1.57079633]\n",
      "Degrees: [  0.  90. 180.]\n",
      "Radians: [0.         1.57079633 3.14159265]\n"
     ]
    }
   ],
   "source": [
    "# ✅ 7. Trigonometry\n",
    "angles = np.array([0, np.pi/2, np.pi])\n",
    "print(\"\\nSine:\", sin_array(angles))\n",
    "print(\"Cosine:\", cos_array(angles))\n",
    "print(\"Arcsin(1):\", arcsin_array(np.array([1.0])))\n",
    "print(\"Degrees:\", to_degrees(angles))\n",
    "print(\"Radians:\", to_radians([0, 90, 180]))"
   ]
  },
  {
   "cell_type": "code",
   "execution_count": 9,
   "id": "ba44add7",
   "metadata": {},
   "outputs": [
    {
     "name": "stdout",
     "output_type": "stream",
     "text": [
      "\n",
      "Broadcasting:\n",
      " [[11 21 31]\n",
      " [12 22 32]\n",
      " [13 23 33]]\n"
     ]
    }
   ],
   "source": [
    "# ✅ 8. Broadcasting example\n",
    "a = np.array([[1], [2], [3]])  # shape (3,1)\n",
    "b = np.array([10, 20, 30])     # shape (3,)\n",
    "broadcasted = a + b\n",
    "print(\"\\nBroadcasting:\\n\", broadcasted)"
   ]
  },
  {
   "cell_type": "code",
   "execution_count": 10,
   "id": "2450582b",
   "metadata": {},
   "outputs": [
    {
     "name": "stdout",
     "output_type": "stream",
     "text": [
      "\n",
      "Clipped (0 to 10): [ 0  0  0  4 10]\n",
      "Absolute: [10  2  0  4 12]\n"
     ]
    }
   ],
   "source": [
    "# ✅ 9. Clipping and absolute\n",
    "arr = np.array([-10, -2, 0, 4, 12])\n",
    "print(\"\\nClipped (0 to 10):\", clip_array(arr, 0, 10))\n",
    "print(\"Absolute:\", absolute_array(arr))"
   ]
  },
  {
   "cell_type": "code",
   "execution_count": 11,
   "id": "06899e1f",
   "metadata": {},
   "outputs": [
    {
     "name": "stdout",
     "output_type": "stream",
     "text": [
      "\n",
      "Cumulative sum: [-10 -12 -12  -8   4]\n",
      "Cumulative product: [    1     9    99  1485 34155]\n"
     ]
    }
   ],
   "source": [
    "# ✅ 10. Cumulative operations\n",
    "print(\"\\nCumulative sum:\", cumulative_sum(arr))\n",
    "print(\"Cumulative product:\", cumulative_product(arr + 11))  # make all positive to avoid 0"
   ]
  }
 ],
 "metadata": {
  "kernelspec": {
   "display_name": "numpy_env",
   "language": "python",
   "name": "python3"
  },
  "language_info": {
   "codemirror_mode": {
    "name": "ipython",
    "version": 3
   },
   "file_extension": ".py",
   "mimetype": "text/x-python",
   "name": "python",
   "nbconvert_exporter": "python",
   "pygments_lexer": "ipython3",
   "version": "3.11.5"
  }
 },
 "nbformat": 4,
 "nbformat_minor": 5
}
