{
 "cells": [
  {
   "cell_type": "markdown",
   "id": "e610195f",
   "metadata": {},
   "source": [
    "# 🧩 Title: Math Operations, Aggregations, and Broadcasting"
   ]
  },
  {
   "cell_type": "code",
   "execution_count": 1,
   "id": "460b78f8",
   "metadata": {},
   "outputs": [
    {
     "name": "stdout",
     "output_type": "stream",
     "text": [
      "🧮 NumPy Math Operations, Aggregations & Broadcasting\n",
      "\n"
     ]
    }
   ],
   "source": [
    "import numpy as np\n",
    "print(\"🧮 NumPy Math Operations, Aggregations & Broadcasting\\n\")"
   ]
  },
  {
   "cell_type": "code",
   "execution_count": 2,
   "id": "520a0897",
   "metadata": {},
   "outputs": [
    {
     "name": "stdout",
     "output_type": "stream",
     "text": [
      "a + b: [5 7 9]\n",
      "a - b: [-3 -3 -3]\n",
      "a * b: [ 4 10 18]\n",
      "a / b: [0.25 0.4  0.5 ]\n",
      "a % b: [1 2 3]\n",
      "a // b: [0 0 0]\n",
      "a ** 2: [1 4 9]\n"
     ]
    }
   ],
   "source": [
    "# ✅ 1. Element-wise arithmetic\n",
    "a = np.array([1, 2, 3])\n",
    "b = np.array([4, 5, 6])\n",
    "print(\"a + b:\", a + b)\n",
    "print(\"a - b:\", a - b)\n",
    "print(\"a * b:\", a * b)\n",
    "print(\"a / b:\", a / b)\n",
    "print(\"a % b:\", a % b)\n",
    "print(\"a // b:\", a // b)\n",
    "print(\"a ** 2:\", a ** 2)"
   ]
  },
  {
   "cell_type": "code",
   "execution_count": 3,
   "id": "68f54091",
   "metadata": {},
   "outputs": [
    {
     "name": "stdout",
     "output_type": "stream",
     "text": [
      "\n",
      "Matrix:\n",
      " [[1 2 3]\n",
      " [4 5 6]]\n",
      "Sum: 21\n",
      "Mean: 3.5\n",
      "Min: 1\n",
      "Max: 6\n",
      "Std Dev: 1.707825127659933\n",
      "Variance: 2.9166666666666665\n"
     ]
    }
   ],
   "source": [
    "# ✅ 2. Aggregate functions\n",
    "mat = np.array([[1, 2, 3], [4, 5, 6]])\n",
    "print(\"\\nMatrix:\\n\", mat)\n",
    "print(\"Sum:\", np.sum(mat))\n",
    "print(\"Mean:\", np.mean(mat))\n",
    "print(\"Min:\", np.min(mat))\n",
    "print(\"Max:\", np.max(mat))\n",
    "print(\"Std Dev:\", np.std(mat))\n",
    "print(\"Variance:\", np.var(mat))"
   ]
  },
  {
   "cell_type": "code",
   "execution_count": 4,
   "id": "375cdc34",
   "metadata": {},
   "outputs": [
    {
     "name": "stdout",
     "output_type": "stream",
     "text": [
      "\n",
      "Sum along axis 0 (columns): [5 7 9]\n",
      "Sum along axis 1 (rows): [ 6 15]\n",
      "\n",
      "Mean along axis 0 (columns): [2.5 3.5 4.5]\n",
      "Mean along axis 1 (rows): [2. 5.]\n",
      "\n",
      "Min along axis 0 (columns): [1 2 3]\n",
      "Min along axis 1 (rows): [1 4]\n",
      "\n",
      "Max along axis 0 (columns): [4 5 6]\n",
      "Max along axis 1 (rows): [3 6]\n",
      "\n",
      "Std Dev along axis 0 (columns): [1.5 1.5 1.5]\n",
      "Std Dev along axis 1 (rows): [0.81649658 0.81649658]\n"
     ]
    }
   ],
   "source": [
    "# ✅ 3. Axis-based aggregations\n",
    "print(\"\\nSum along axis 0 (columns):\", np.sum(mat, axis=0))\n",
    "print(\"Sum along axis 1 (rows):\", np.sum(mat, axis=1))\n",
    "print(\"\\nMean along axis 0 (columns):\", np.mean(mat, axis=0))\n",
    "print(\"Mean along axis 1 (rows):\", np.mean(mat, axis=1))\n",
    "print(\"\\nMin along axis 0 (columns):\", np.min(mat, axis=0))\n",
    "print(\"Min along axis 1 (rows):\", np.min(mat, axis=1))\n",
    "print(\"\\nMax along axis 0 (columns):\", np.max(mat, axis=0))\n",
    "print(\"Max along axis 1 (rows):\", np.max(mat, axis=1))\n",
    "print(\"\\nStd Dev along axis 0 (columns):\", np.std(mat, axis=0))\n",
    "print(\"Std Dev along axis 1 (rows):\", np.std(mat, axis=1))"
   ]
  },
  {
   "cell_type": "code",
   "execution_count": 5,
   "id": "ad513bfe",
   "metadata": {},
   "outputs": [
    {
     "name": "stdout",
     "output_type": "stream",
     "text": [
      "\n",
      "Rounded (2 decimals): [1.23 5.68 9.88]\n",
      "Floor: [1. 5. 9.]\n",
      "Ceil: [ 2.  6. 10.]\n",
      "Trunc: [1. 5. 9.]\n"
     ]
    }
   ],
   "source": [
    "# ✅ 4. Rounding\n",
    "arr = np.array([1.234, 5.678, 9.876])\n",
    "print(\"\\nRounded (2 decimals):\", np.round(arr, 2))\n",
    "print(\"Floor:\", np.floor(arr))\n",
    "print(\"Ceil:\", np.ceil(arr))\n",
    "print(\"Trunc:\", np.trunc(arr))"
   ]
  },
  {
   "cell_type": "code",
   "execution_count": 6,
   "id": "38489797",
   "metadata": {},
   "outputs": [
    {
     "name": "stdout",
     "output_type": "stream",
     "text": [
      "\n",
      "Original: [1.         2.71828183 7.3890561 ]\n",
      "Natural log: [0. 1. 2.]\n",
      "Base-10 log: [0.         0.43429448 0.86858896]\n",
      "Exponential: [   2.71828183   15.15426224 1618.17799191]\n"
     ]
    }
   ],
   "source": [
    "# ✅ 5. Exponentials and logarithms\n",
    "arr = np.array([1, np.e, np.e**2])\n",
    "print(\"\\nOriginal:\", arr)\n",
    "print(\"Natural log:\", np.log(arr))\n",
    "print(\"Base-10 log:\", np.log10(arr))\n",
    "print(\"Exponential:\", np.exp(arr))"
   ]
  },
  {
   "cell_type": "code",
   "execution_count": 7,
   "id": "ec33a9a2",
   "metadata": {},
   "outputs": [
    {
     "name": "stdout",
     "output_type": "stream",
     "text": [
      "\n",
      "Sqrt: [2. 3. 4.]\n",
      "Cube root: [1.58740105 2.08008382 2.5198421 ]\n",
      "Power (nums^3): [  64  729 4096]\n"
     ]
    }
   ],
   "source": [
    "# ✅ 6. Roots and powers\n",
    "nums = np.array([4, 9, 16])\n",
    "print(\"\\nSqrt:\", np.sqrt(nums))\n",
    "print(\"Cube root:\", np.cbrt(nums))\n",
    "print(\"Power (nums^3):\", np.power(nums, 3))"
   ]
  },
  {
   "cell_type": "code",
   "execution_count": 8,
   "id": "5ce5f592",
   "metadata": {},
   "outputs": [
    {
     "name": "stdout",
     "output_type": "stream",
     "text": [
      "\n",
      "Sine: [0.0000000e+00 1.0000000e+00 1.2246468e-16]\n",
      "Cosine: [ 1.000000e+00  6.123234e-17 -1.000000e+00]\n",
      "Arcsin(1): 1.5707963267948966\n",
      "Degrees: [  0.  90. 180.]\n",
      "Radians: [0.         1.57079633 3.14159265]\n"
     ]
    }
   ],
   "source": [
    "# ✅ 7. Trigonometry\n",
    "angles = np.array([0, np.pi/2, np.pi])\n",
    "print(\"\\nSine:\", np.sin(angles))\n",
    "print(\"Cosine:\", np.cos(angles))\n",
    "print(\"Arcsin(1):\", np.arcsin(1.0))\n",
    "print(\"Degrees:\", np.degrees(angles))\n",
    "print(\"Radians:\", np.radians([0, 90, 180]))"
   ]
  },
  {
   "cell_type": "code",
   "execution_count": 9,
   "id": "ba44add7",
   "metadata": {},
   "outputs": [
    {
     "name": "stdout",
     "output_type": "stream",
     "text": [
      "\n",
      "Broadcasting:\n",
      " [[11 21 31]\n",
      " [12 22 32]\n",
      " [13 23 33]]\n"
     ]
    }
   ],
   "source": [
    "# ✅ 8. Broadcasting example\n",
    "a = np.array([[1], [2], [3]])  # shape (3,1)\n",
    "b = np.array([10, 20, 30])     # shape (3,)\n",
    "broadcasted = a + b\n",
    "print(\"\\nBroadcasting:\\n\", broadcasted)"
   ]
  },
  {
   "cell_type": "code",
   "execution_count": 10,
   "id": "2450582b",
   "metadata": {},
   "outputs": [
    {
     "name": "stdout",
     "output_type": "stream",
     "text": [
      "\n",
      "Clipped (0 to 10): [ 0  0  0  4 10]\n",
      "Absolute: [10  2  0  4 12]\n"
     ]
    }
   ],
   "source": [
    "# ✅ 9. Clipping and absolute\n",
    "arr = np.array([-10, -2, 0, 4, 12])\n",
    "print(\"\\nClipped (0 to 10):\", np.clip(arr, 0, 10))\n",
    "print(\"Absolute:\", np.abs(arr))"
   ]
  },
  {
   "cell_type": "code",
   "execution_count": 11,
   "id": "06899e1f",
   "metadata": {},
   "outputs": [
    {
     "name": "stdout",
     "output_type": "stream",
     "text": [
      "\n",
      "Cumulative sum: [-10 -12 -12  -8   4]\n",
      "Cumulative product: [    1     9    99  1485 34155]\n"
     ]
    }
   ],
   "source": [
    "# ✅ 10. Special: cumulative operations\n",
    "print(\"\\nCumulative sum:\", np.cumsum(arr))\n",
    "print(\"Cumulative product:\", np.cumprod(arr + 11))  # make all positive to avoid 0"
   ]
  }
 ],
 "metadata": {
  "kernelspec": {
   "display_name": "numpy-env",
   "language": "python",
   "name": "python3"
  },
  "language_info": {
   "codemirror_mode": {
    "name": "ipython",
    "version": 3
   },
   "file_extension": ".py",
   "mimetype": "text/x-python",
   "name": "python",
   "nbconvert_exporter": "python",
   "pygments_lexer": "ipython3",
   "version": "3.11.11"
  }
 },
 "nbformat": 4,
 "nbformat_minor": 5
}
