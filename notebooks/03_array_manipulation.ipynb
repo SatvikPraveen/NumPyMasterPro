{
 "cells": [
  {
   "cell_type": "markdown",
   "id": "fa2856ac",
   "metadata": {},
   "source": [
    "# 🧩 Notebook-03: Array Reshaping, Stacking, Transposing, and Broadcasting"
   ]
  },
  {
   "cell_type": "code",
   "execution_count": 1,
   "id": "9897e104",
   "metadata": {},
   "outputs": [
    {
     "name": "stdout",
     "output_type": "stream",
     "text": [
      "🔀 NumPy Array Manipulation\n",
      "\n"
     ]
    }
   ],
   "source": [
    "# ✅ Setup\n",
    "import sys\n",
    "from pathlib import Path\n",
    "import numpy as np\n",
    "import pandas as pd\n",
    "\n",
    "PROJECT_ROOT = Path.cwd().parent\n",
    "SCRIPT_DIR = PROJECT_ROOT / \"scripts\"\n",
    "if str(SCRIPT_DIR) not in sys.path:\n",
    "    sys.path.insert(0, str(SCRIPT_DIR))\n",
    "\n",
    "from array_utils import (\n",
    "    describe_array, array_summary_table, print_array_with_header\n",
    ")\n",
    "\n",
    "print(\"🔀 NumPy Array Manipulation\\n\")"
   ]
  },
  {
   "cell_type": "code",
   "execution_count": 2,
   "id": "32a68d7f",
   "metadata": {},
   "outputs": [
    {
     "name": "stdout",
     "output_type": "stream",
     "text": [
      "\n",
      "🔹 Original\n",
      "[ 0  1  2  3  4  5  6  7  8  9 10 11]\n",
      "\n",
      "🔹 Reshaped (3x4)\n",
      "[[ 0  1  2  3]\n",
      " [ 4  5  6  7]\n",
      " [ 8  9 10 11]]\n"
     ]
    }
   ],
   "source": [
    "# ✅ 1. Reshaping\n",
    "arr = np.arange(12)\n",
    "reshaped = arr.reshape(3, 4)\n",
    "print_array_with_header(arr, \"Original\")\n",
    "print_array_with_header(reshaped, \"Reshaped (3x4)\")"
   ]
  },
  {
   "cell_type": "code",
   "execution_count": 3,
   "id": "3de38467",
   "metadata": {},
   "outputs": [
    {
     "name": "stdout",
     "output_type": "stream",
     "text": [
      "\n",
      "🔹 Flattened (Copy)\n",
      "[ 0  1  2  3  4  5  6  7  8  9 10 11]\n",
      "\n",
      "🔹 Ravel (View)\n",
      "[ 0  1  2  3  4  5  6  7  8  9 10 11]\n"
     ]
    }
   ],
   "source": [
    "# ✅ 2. Flattening vs Ravel\n",
    "print_array_with_header(reshaped.flatten(), \"Flattened (Copy)\")\n",
    "print_array_with_header(reshaped.ravel(), \"Ravel (View)\")"
   ]
  },
  {
   "cell_type": "code",
   "execution_count": 4,
   "id": "ab036939",
   "metadata": {},
   "outputs": [
    {
     "name": "stdout",
     "output_type": "stream",
     "text": [
      "\n",
      "🔹 Original Shape\n",
      "[1 2 3]\n",
      "\n",
      "🔹 After expand_dims (axis=0)\n",
      "[[1 2 3]]\n",
      "\n",
      "🔹 After squeeze\n",
      "[1 2 3]\n"
     ]
    }
   ],
   "source": [
    "# ✅ 3. Expand/Squeeze dimensions\n",
    "a = np.array([1, 2, 3])\n",
    "print_array_with_header(a, \"Original Shape\")\n",
    "a_expanded = np.expand_dims(a, axis=0)\n",
    "print_array_with_header(a_expanded, \"After expand_dims (axis=0)\")\n",
    "a_squeezed = np.squeeze(a_expanded)\n",
    "print_array_with_header(a_squeezed, \"After squeeze\")"
   ]
  },
  {
   "cell_type": "code",
   "execution_count": 5,
   "id": "33e4ac01",
   "metadata": {},
   "outputs": [
    {
     "name": "stdout",
     "output_type": "stream",
     "text": [
      "\n",
      "🔹 Concat axis=0\n",
      "[[1 2]\n",
      " [3 4]\n",
      " [5 6]]\n",
      "\n",
      "🔹 Concat axis=1\n",
      "[[1 3 5]\n",
      " [2 4 6]]\n"
     ]
    }
   ],
   "source": [
    "# ✅ 4. Concatenation\n",
    "a = np.array([[1, 2], [3, 4]])\n",
    "b = np.array([[5, 6]])\n",
    "print_array_with_header(np.concatenate((a, b), axis=0), \"Concat axis=0\")\n",
    "print_array_with_header(np.concatenate((a.T, b.T), axis=1), \"Concat axis=1\")"
   ]
  },
  {
   "cell_type": "code",
   "execution_count": 6,
   "id": "c5c3fc1d",
   "metadata": {},
   "outputs": [
    {
     "name": "stdout",
     "output_type": "stream",
     "text": [
      "\n",
      "🔹 Vertical Stack\n",
      "[[1 2]\n",
      " [3 4]\n",
      " [5 6]]\n",
      "\n",
      "🔹 Horizontal Stack\n",
      "[[1 3 5]\n",
      " [2 4 6]]\n"
     ]
    }
   ],
   "source": [
    "# ✅ 5. Stacking\n",
    "print_array_with_header(np.vstack((a, b)), \"Vertical Stack\")\n",
    "print_array_with_header(np.hstack((a.T, b.T)), \"Horizontal Stack\")"
   ]
  },
  {
   "cell_type": "code",
   "execution_count": 7,
   "id": "69945427",
   "metadata": {},
   "outputs": [
    {
     "name": "stdout",
     "output_type": "stream",
     "text": [
      "\n",
      "🔹 Stacked (new axis=0)\n",
      "[[[1 2]\n",
      "  [3 4]]\n",
      "\n",
      " [[1 2]\n",
      "  [3 4]]]\n"
     ]
    }
   ],
   "source": [
    "# ✅ 6. Stack along new axis\n",
    "print_array_with_header(np.stack((a, a), axis=0), \"Stacked (new axis=0)\")"
   ]
  },
  {
   "cell_type": "code",
   "execution_count": 8,
   "id": "bb9e8b9b",
   "metadata": {},
   "outputs": [
    {
     "name": "stdout",
     "output_type": "stream",
     "text": [
      "\n",
      "🔹 Original for Splitting\n",
      "[0 1 2 3 4 5 6 7]\n",
      "Split into 2: [array([0, 1, 2, 3]), array([4, 5, 6, 7])]\n",
      "Unequal split (array_split): [array([0, 1, 2]), array([3, 4, 5]), array([6, 7])]\n"
     ]
    }
   ],
   "source": [
    "# ✅ 7. Splitting arrays\n",
    "arr = np.arange(8)\n",
    "print_array_with_header(arr, \"Original for Splitting\")\n",
    "print(\"Split into 2:\", np.split(arr, 2))\n",
    "print(\"Unequal split (array_split):\", np.array_split(arr, 3))"
   ]
  },
  {
   "cell_type": "code",
   "execution_count": 9,
   "id": "c47cf61a",
   "metadata": {},
   "outputs": [
    {
     "name": "stdout",
     "output_type": "stream",
     "text": [
      "\n",
      "🔹 Original Matrix\n",
      "[[1 2 3]\n",
      " [4 5 6]]\n",
      "\n",
      "🔹 Transposed via .T\n",
      "[[1 4]\n",
      " [2 5]\n",
      " [3 6]]\n",
      "\n",
      "🔹 Transposed via np.transpose\n",
      "[[1 4]\n",
      " [2 5]\n",
      " [3 6]]\n"
     ]
    }
   ],
   "source": [
    "# ✅ 8. Transpose and .T\n",
    "mat = np.array([[1, 2, 3], [4, 5, 6]])\n",
    "print_array_with_header(mat, \"Original Matrix\")\n",
    "print_array_with_header(mat.T, \"Transposed via .T\")\n",
    "print_array_with_header(np.transpose(mat), \"Transposed via np.transpose\")"
   ]
  },
  {
   "cell_type": "code",
   "execution_count": 10,
   "id": "4068cc23",
   "metadata": {},
   "outputs": [
    {
     "name": "stdout",
     "output_type": "stream",
     "text": [
      "Original shape: (2, 3, 4)\n",
      "After swapaxes(0, 2): (4, 3, 2)\n"
     ]
    }
   ],
   "source": [
    "# ✅ 9. Swapping axes\n",
    "tensor = np.zeros((2, 3, 4))\n",
    "print(\"Original shape:\", tensor.shape)\n",
    "swapped = np.swapaxes(tensor, 0, 2)\n",
    "print(\"After swapaxes(0, 2):\", swapped.shape)"
   ]
  },
  {
   "cell_type": "code",
   "execution_count": 11,
   "id": "a43f6d67",
   "metadata": {},
   "outputs": [
    {
     "name": "stdout",
     "output_type": "stream",
     "text": [
      "\n",
      "🔹 Repeat elements\n",
      "[1 1 1 2 2 2]\n",
      "\n",
      "🔹 Repeat rows\n",
      "[[1 2]\n",
      " [1 2]]\n",
      "\n",
      "🔹 Tiled array (2x3)\n",
      "[[1 2 1 2 1 2]\n",
      " [1 2 1 2 1 2]]\n"
     ]
    }
   ],
   "source": [
    "# ✅ 10. Repeating & Tiling\n",
    "a = np.array([[1, 2]])\n",
    "print_array_with_header(np.repeat(a, 3), \"Repeat elements\")\n",
    "print_array_with_header(np.repeat(a, 2, axis=0), \"Repeat rows\")\n",
    "print_array_with_header(np.tile(a, (2, 3)), \"Tiled array (2x3)\")"
   ]
  },
  {
   "cell_type": "code",
   "execution_count": 12,
   "id": "cd532309",
   "metadata": {},
   "outputs": [
    {
     "name": "stdout",
     "output_type": "stream",
     "text": [
      "\n",
      "🔹 Original (for Padding)\n",
      "[[1 2]\n",
      " [3 4]]\n",
      "\n",
      "🔹 Padded array\n",
      "[[0 0 0 0]\n",
      " [0 1 2 0]\n",
      " [0 3 4 0]\n",
      " [0 0 0 0]]\n"
     ]
    }
   ],
   "source": [
    "# ✅ 11. Padding\n",
    "pad_arr = np.array([[1, 2], [3, 4]])\n",
    "padded = np.pad(pad_arr, pad_width=1, mode='constant', constant_values=0)\n",
    "print_array_with_header(pad_arr, \"Original (for Padding)\")\n",
    "print_array_with_header(padded, \"Padded array\")"
   ]
  },
  {
   "cell_type": "code",
   "execution_count": 13,
   "id": "46a3e4fa",
   "metadata": {},
   "outputs": [
    {
     "name": "stdout",
     "output_type": "stream",
     "text": [
      "\n",
      "🔹 Resized (shape 3x5)\n",
      "[[0 1 2 3 4]\n",
      " [5 6 7 0 1]\n",
      " [2 3 4 5 6]]\n"
     ]
    }
   ],
   "source": [
    "# ✅ 12. Resize (with caution)\n",
    "resized = np.resize(arr, (3, 5))\n",
    "print_array_with_header(resized, \"Resized (shape 3x5)\")"
   ]
  }
 ],
 "metadata": {
  "kernelspec": {
   "display_name": "numpy_env",
   "language": "python",
   "name": "python3"
  },
  "language_info": {
   "codemirror_mode": {
    "name": "ipython",
    "version": 3
   },
   "file_extension": ".py",
   "mimetype": "text/x-python",
   "name": "python",
   "nbconvert_exporter": "python",
   "pygments_lexer": "ipython3",
   "version": "3.11.5"
  }
 },
 "nbformat": 4,
 "nbformat_minor": 5
}
