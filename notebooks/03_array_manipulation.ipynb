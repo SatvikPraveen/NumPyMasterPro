{
 "cells": [
  {
   "cell_type": "markdown",
   "id": "fa2856ac",
   "metadata": {},
   "source": [
    "# 🧩 Title: Array Reshaping, Stacking, Transposing, and Broadcasting"
   ]
  },
  {
   "cell_type": "code",
   "execution_count": 1,
   "id": "9897e104",
   "metadata": {},
   "outputs": [
    {
     "name": "stdout",
     "output_type": "stream",
     "text": [
      "🔀 NumPy Array Manipulation\n",
      "\n"
     ]
    }
   ],
   "source": [
    "import numpy as np\n",
    "print(\"🔀 NumPy Array Manipulation\\n\")"
   ]
  },
  {
   "cell_type": "code",
   "execution_count": 2,
   "id": "32a68d7f",
   "metadata": {},
   "outputs": [
    {
     "name": "stdout",
     "output_type": "stream",
     "text": [
      "Original: [ 0  1  2  3  4  5  6  7  8  9 10 11]\n",
      "Reshaped (3x4):\n",
      " [[ 0  1  2  3]\n",
      " [ 4  5  6  7]\n",
      " [ 8  9 10 11]]\n"
     ]
    }
   ],
   "source": [
    "# ✅ 1. Reshaping\n",
    "arr = np.arange(12)\n",
    "reshaped = arr.reshape(3, 4)\n",
    "print(\"Original:\", arr)\n",
    "print(\"Reshaped (3x4):\\n\", reshaped)"
   ]
  },
  {
   "cell_type": "code",
   "execution_count": 3,
   "id": "3de38467",
   "metadata": {},
   "outputs": [
    {
     "name": "stdout",
     "output_type": "stream",
     "text": [
      "\n",
      "Flattened: [ 0  1  2  3  4  5  6  7  8  9 10 11]\n",
      "Ravel (view): [ 0  1  2  3  4  5  6  7  8  9 10 11]\n"
     ]
    }
   ],
   "source": [
    "# ✅ 2. Flattening vs Ravel\n",
    "print(\"\\nFlattened:\", reshaped.flatten())\n",
    "print(\"Ravel (view):\", reshaped.ravel())"
   ]
  },
  {
   "cell_type": "code",
   "execution_count": 4,
   "id": "ab036939",
   "metadata": {},
   "outputs": [
    {
     "name": "stdout",
     "output_type": "stream",
     "text": [
      "\n",
      "Original shape: (3,)\n",
      "After expand_dims (axis=0): (1, 3)\n",
      "After squeeze: (3,)\n"
     ]
    }
   ],
   "source": [
    "# ✅ 3. Expand/Squeeze dimensions\n",
    "a = np.array([1, 2, 3])\n",
    "print(\"\\nOriginal shape:\", a.shape)\n",
    "a_expanded = np.expand_dims(a, axis=0)\n",
    "print(\"After expand_dims (axis=0):\", a_expanded.shape)\n",
    "a_squeezed = np.squeeze(a_expanded)\n",
    "print(\"After squeeze:\", a_squeezed.shape)"
   ]
  },
  {
   "cell_type": "code",
   "execution_count": 5,
   "id": "33e4ac01",
   "metadata": {},
   "outputs": [
    {
     "name": "stdout",
     "output_type": "stream",
     "text": [
      "\n",
      "Concat axis=0:\n",
      " [[1 2]\n",
      " [3 4]\n",
      " [5 6]]\n",
      "Concat axis=1:\n",
      " [[1 3 5]\n",
      " [2 4 6]]\n"
     ]
    }
   ],
   "source": [
    "# ✅ 4. Concatenation\n",
    "a = np.array([[1, 2], [3, 4]])\n",
    "b = np.array([[5, 6]])\n",
    "concat_axis0 = np.concatenate((a, b), axis=0)\n",
    "concat_axis1 = np.concatenate((a.T, b.T), axis=1)\n",
    "print(\"\\nConcat axis=0:\\n\", concat_axis0)\n",
    "print(\"Concat axis=1:\\n\", concat_axis1)"
   ]
  },
  {
   "cell_type": "code",
   "execution_count": 6,
   "id": "c5c3fc1d",
   "metadata": {},
   "outputs": [
    {
     "name": "stdout",
     "output_type": "stream",
     "text": [
      "\n",
      "Vertical stack:\n",
      " [[1 2]\n",
      " [3 4]\n",
      " [5 6]]\n",
      "Horizontal stack:\n",
      " [[1 3 5]\n",
      " [2 4 6]]\n"
     ]
    }
   ],
   "source": [
    "# ✅ 5. Stacking\n",
    "v_stack = np.vstack((a, b))\n",
    "h_stack = np.hstack((a.T, b.T))\n",
    "print(\"\\nVertical stack:\\n\", v_stack)\n",
    "print(\"Horizontal stack:\\n\", h_stack)"
   ]
  },
  {
   "cell_type": "code",
   "execution_count": 7,
   "id": "69945427",
   "metadata": {},
   "outputs": [
    {
     "name": "stdout",
     "output_type": "stream",
     "text": [
      "\n",
      "Stacked (new axis=0):\n",
      " [[[1 2]\n",
      "  [3 4]]\n",
      "\n",
      " [[1 2]\n",
      "  [3 4]]]\n"
     ]
    }
   ],
   "source": [
    "# ✅ 6. Stack along new axis\n",
    "stacked = np.stack((a, a), axis=0)\n",
    "print(\"\\nStacked (new axis=0):\\n\", stacked)"
   ]
  },
  {
   "cell_type": "code",
   "execution_count": 8,
   "id": "bb9e8b9b",
   "metadata": {},
   "outputs": [
    {
     "name": "stdout",
     "output_type": "stream",
     "text": [
      "\n",
      "Original: [0 1 2 3 4 5 6 7]\n",
      "Split into 2: [array([0, 1, 2, 3]), array([4, 5, 6, 7])]\n",
      "Unequal split (array_split): [array([0, 1, 2]), array([3, 4, 5]), array([6, 7])]\n"
     ]
    }
   ],
   "source": [
    "# ✅ 7. Splitting arrays\n",
    "arr = np.arange(8)\n",
    "print(\"\\nOriginal:\", arr)\n",
    "print(\"Split into 2:\", np.split(arr, 2))\n",
    "print(\"Unequal split (array_split):\", np.array_split(arr, 3))"
   ]
  },
  {
   "cell_type": "code",
   "execution_count": 9,
   "id": "c47cf61a",
   "metadata": {},
   "outputs": [
    {
     "name": "stdout",
     "output_type": "stream",
     "text": [
      "\n",
      "Original Matrix:\n",
      " [[1 2 3]\n",
      " [4 5 6]]\n",
      "Transposed (via .T):\n",
      " [[1 4]\n",
      " [2 5]\n",
      " [3 6]]\n",
      "Transposed (via np.transpose):\n",
      " [[1 4]\n",
      " [2 5]\n",
      " [3 6]]\n"
     ]
    }
   ],
   "source": [
    "# ✅ 8. Transpose and .T\n",
    "mat = np.array([[1, 2, 3], [4, 5, 6]])\n",
    "print(\"\\nOriginal Matrix:\\n\", mat)\n",
    "print(\"Transposed (via .T):\\n\", mat.T)\n",
    "print(\"Transposed (via np.transpose):\\n\", np.transpose(mat))"
   ]
  },
  {
   "cell_type": "code",
   "execution_count": 10,
   "id": "4068cc23",
   "metadata": {},
   "outputs": [
    {
     "name": "stdout",
     "output_type": "stream",
     "text": [
      "\n",
      "Original shape: (2, 3, 4)\n",
      "After swapaxes(0, 2): (4, 3, 2)\n"
     ]
    }
   ],
   "source": [
    "# ✅ 9. Swapping axes\n",
    "tensor = np.zeros((2, 3, 4))\n",
    "print(\"\\nOriginal shape:\", tensor.shape)\n",
    "swapped = np.swapaxes(tensor, 0, 2)\n",
    "print(\"After swapaxes(0, 2):\", swapped.shape)"
   ]
  },
  {
   "cell_type": "code",
   "execution_count": 11,
   "id": "a43f6d67",
   "metadata": {},
   "outputs": [
    {
     "name": "stdout",
     "output_type": "stream",
     "text": [
      "\n",
      "Repeat elements: [1 1 1 2 2 2]\n",
      "Repeat rows: [[1 2]\n",
      " [1 2]]\n",
      "Tiled:\n",
      " [[1 2 1 2 1 2]\n",
      " [1 2 1 2 1 2]]\n"
     ]
    }
   ],
   "source": [
    "# ✅ 10. Repeating & Tiling\n",
    "a = np.array([[1, 2]])\n",
    "print(\"\\nRepeat elements:\", np.repeat(a, 3))\n",
    "print(\"Repeat rows:\", np.repeat(a, 2, axis=0))\n",
    "print(\"Tiled:\\n\", np.tile(a, (2, 3)))"
   ]
  },
  {
   "cell_type": "code",
   "execution_count": 12,
   "id": "cd532309",
   "metadata": {},
   "outputs": [
    {
     "name": "stdout",
     "output_type": "stream",
     "text": [
      "\n",
      "Original:\n",
      " [[1 2]\n",
      " [3 4]]\n",
      "Padded:\n",
      " [[0 0 0 0]\n",
      " [0 1 2 0]\n",
      " [0 3 4 0]\n",
      " [0 0 0 0]]\n"
     ]
    }
   ],
   "source": [
    "# ✅ 11. Padding\n",
    "pad_arr = np.array([[1, 2], [3, 4]])\n",
    "padded = np.pad(pad_arr, pad_width=1, mode='constant', constant_values=0)\n",
    "print(\"\\nOriginal:\\n\", pad_arr)\n",
    "print(\"Padded:\\n\", padded)"
   ]
  },
  {
   "cell_type": "code",
   "execution_count": 13,
   "id": "46a3e4fa",
   "metadata": {},
   "outputs": [
    {
     "name": "stdout",
     "output_type": "stream",
     "text": [
      "\n",
      "Resized:\n",
      " [[0 1 2 3 4]\n",
      " [5 6 7 0 1]\n",
      " [2 3 4 5 6]]\n"
     ]
    }
   ],
   "source": [
    "# ✅ 12. Resize (can distort data shape, use with care)\n",
    "resized = np.resize(arr, (3, 5))\n",
    "print(\"\\nResized:\\n\", resized)"
   ]
  }
 ],
 "metadata": {
  "kernelspec": {
   "display_name": "numpy-env",
   "language": "python",
   "name": "python3"
  },
  "language_info": {
   "codemirror_mode": {
    "name": "ipython",
    "version": 3
   },
   "file_extension": ".py",
   "mimetype": "text/x-python",
   "name": "python",
   "nbconvert_exporter": "python",
   "pygments_lexer": "ipython3",
   "version": "3.11.11"
  }
 },
 "nbformat": 4,
 "nbformat_minor": 5
}
