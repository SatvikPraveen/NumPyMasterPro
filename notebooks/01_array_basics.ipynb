{
 "cells": [
  {
   "cell_type": "markdown",
   "id": "6e194190",
   "metadata": {},
   "source": [
    "# 🧩 Title: NumPy Array Basics — Creation, Types, and Attributes\n",
    "python"
   ]
  },
  {
   "cell_type": "code",
   "execution_count": 1,
   "id": "6a4d799f",
   "metadata": {},
   "outputs": [
    {
     "name": "stdout",
     "output_type": "stream",
     "text": [
      "🔢 Numpy Array Basics\n",
      "\n"
     ]
    }
   ],
   "source": [
    "import numpy as np\n",
    "print(\"🔢 Numpy Array Basics\\n\")"
   ]
  },
  {
   "cell_type": "code",
   "execution_count": 2,
   "id": "c198d21d",
   "metadata": {},
   "outputs": [
    {
     "name": "stdout",
     "output_type": "stream",
     "text": [
      "Array from list:  [1 2 3]\n"
     ]
    }
   ],
   "source": [
    "# ✅ 1. Creating arrays from lists/tuples\n",
    "list_data = [1, 2, 3]\n",
    "array_from_list = np.array(list_data)\n",
    "print(\"Array from list: \", array_from_list)"
   ]
  },
  {
   "cell_type": "code",
   "execution_count": 3,
   "id": "afba7489",
   "metadata": {},
   "outputs": [
    {
     "name": "stdout",
     "output_type": "stream",
     "text": [
      "Type: <class 'numpy.ndarray'>\n",
      "Shape: (3,)\n",
      "Data type: int64\n"
     ]
    }
   ],
   "source": [
    "\n",
    "# ✅ 2. Check type, shape, and dtype\n",
    "print(\"Type:\", type(array_from_list))\n",
    "print(\"Shape:\", array_from_list.shape)\n",
    "print(\"Data type:\", array_from_list.dtype)"
   ]
  },
  {
   "cell_type": "code",
   "execution_count": 4,
   "id": "e39fd722",
   "metadata": {},
   "outputs": [
    {
     "name": "stdout",
     "output_type": "stream",
     "text": [
      "\n",
      "Zeros:\n",
      " [[0. 0. 0.]\n",
      " [0. 0. 0.]]\n",
      "\n",
      "Ones:\n",
      " [[1. 1. 1.]\n",
      " [1. 1. 1.]]\n",
      "\n",
      "Full:\n",
      " [[7 7 7]\n",
      " [7 7 7]]\n",
      "\n",
      "Empty:\n",
      " [[0. 0. 0.]\n",
      " [0. 0. 0.]]\n"
     ]
    }
   ],
   "source": [
    "# ✅ 3. Creating arrays with built-in functions\n",
    "zeros = np.zeros((2, 3))\n",
    "ones = np.ones((2, 3))\n",
    "full = np.full((2, 3), 7)\n",
    "empty = np.empty((2, 3))\n",
    "print(\"\\nZeros:\\n\", zeros)\n",
    "print(\"\\nOnes:\\n\", ones)\n",
    "print(\"\\nFull:\\n\", full)\n",
    "print(\"\\nEmpty:\\n\", empty)"
   ]
  },
  {
   "cell_type": "code",
   "execution_count": 5,
   "id": "bb9e8d7f",
   "metadata": {},
   "outputs": [
    {
     "name": "stdout",
     "output_type": "stream",
     "text": [
      "\n",
      "Arange: [0 2 4 6 8]\n",
      "Linspace: [0.   0.25 0.5  0.75 1.  ]\n",
      "Logspace: [  10.  100. 1000.]\n"
     ]
    }
   ],
   "source": [
    "# ✅ 4. Ranges\n",
    "arange_ex = np.arange(0, 10, 2)\n",
    "linspace_ex = np.linspace(0, 1, 5)\n",
    "logspace_ex = np.logspace(1, 3, 3)\n",
    "print(\"\\nArange:\", arange_ex)\n",
    "print(\"Linspace:\", linspace_ex)\n",
    "print(\"Logspace:\", logspace_ex)"
   ]
  },
  {
   "cell_type": "code",
   "execution_count": 6,
   "id": "5900adcf",
   "metadata": {},
   "outputs": [
    {
     "name": "stdout",
     "output_type": "stream",
     "text": [
      "\n",
      "Eye:\n",
      " [[1. 0. 0.]\n",
      " [0. 1. 0.]\n",
      " [0. 0. 1.]]\n",
      "Identity:\n",
      " [[1. 0. 0.]\n",
      " [0. 1. 0.]\n",
      " [0. 0. 1.]]\n",
      "Diagonal:\n",
      " [[1 0 0]\n",
      " [0 2 0]\n",
      " [0 0 3]]\n"
     ]
    }
   ],
   "source": [
    "# ✅ 5. Identity and Diagonal\n",
    "eye = np.eye(3)\n",
    "identity = np.identity(3)\n",
    "diag = np.diag([1, 2, 3])\n",
    "print(\"\\nEye:\\n\", eye)\n",
    "print(\"Identity:\\n\", identity)\n",
    "print(\"Diagonal:\\n\", diag)"
   ]
  },
  {
   "cell_type": "code",
   "execution_count": 7,
   "id": "c34aae9a",
   "metadata": {},
   "outputs": [
    {
     "name": "stdout",
     "output_type": "stream",
     "text": [
      "\n",
      "Random Uniform:\n",
      " [[0.68707746 0.18008416]\n",
      " [0.84675494 0.30017555]]\n",
      "Random Normal:\n",
      " [[ 0.62281894 -0.98219386]\n",
      " [-0.77804906  0.5167055 ]]\n",
      "Random Int:\n",
      " [[5 9 4]\n",
      " [6 3 5]]\n"
     ]
    }
   ],
   "source": [
    "# ✅ 6. Random arrays\n",
    "rand = np.random.rand(2, 2)\n",
    "randn = np.random.randn(2, 2)\n",
    "randint = np.random.randint(1, 10, (2, 3))\n",
    "print(\"\\nRandom Uniform:\\n\", rand)\n",
    "print(\"Random Normal:\\n\", randn)\n",
    "print(\"Random Int:\\n\", randint)"
   ]
  },
  {
   "cell_type": "code",
   "execution_count": null,
   "id": "139b7b6d",
   "metadata": {},
   "outputs": [
    {
     "name": "stdout",
     "output_type": "stream",
     "text": [
      "\n",
      "Shape: (2, 2)\n",
      "Size: 4\n",
      "Ndim: 2\n",
      "Itemsize: 8\n",
      "Total bytes: 32\n",
      "Flags:\n",
      "   C_CONTIGUOUS : True\n",
      "  F_CONTIGUOUS : False\n",
      "  OWNDATA : True\n",
      "  WRITEABLE : True\n",
      "  ALIGNED : True\n",
      "  WRITEBACKIFCOPY : False\n",
      "\n"
     ]
    }
   ],
   "source": [
    "# ✅ 7. Attributes of arrays\n",
    "print(\"\\nShape:\", rand.shape)\n",
    "print(\"Size:\", rand.size)\n",
    "print(\"Ndim:\", rand.ndim)\n",
    "print(\"Itemsize:\", rand.itemsize)\n",
    "print(\"Total bytes:\", rand.nbytes)\n",
    "print(\"Flags:\\n\", rand.flags) # array metadata"
   ]
  }
 ],
 "metadata": {
  "kernelspec": {
   "display_name": "numpy-env",
   "language": "python",
   "name": "python3"
  },
  "language_info": {
   "codemirror_mode": {
    "name": "ipython",
    "version": 3
   },
   "file_extension": ".py",
   "mimetype": "text/x-python",
   "name": "python",
   "nbconvert_exporter": "python",
   "pygments_lexer": "ipython3",
   "version": "3.11.11"
  }
 },
 "nbformat": 4,
 "nbformat_minor": 5
}
