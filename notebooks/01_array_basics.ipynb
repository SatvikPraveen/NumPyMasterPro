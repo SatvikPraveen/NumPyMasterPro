{
 "cells": [
  {
   "cell_type": "markdown",
   "id": "6e194190",
   "metadata": {},
   "source": [
    "# 🧩 Notebook-01: NumPy Array Basics — Creation, Types, and Attributes\n",
    "python"
   ]
  },
  {
   "cell_type": "code",
   "execution_count": 1,
   "id": "6a4d799f",
   "metadata": {},
   "outputs": [
    {
     "name": "stdout",
     "output_type": "stream",
     "text": [
      "🔢 NumPy Array Basics\n",
      "\n"
     ]
    }
   ],
   "source": [
    "# ✅ Compatible with Jupyter Notebook environment\n",
    "import sys\n",
    "from pathlib import Path\n",
    "\n",
    "PROJECT_ROOT = Path.cwd().parent\n",
    "SCRIPT_DIR = PROJECT_ROOT / \"scripts\"\n",
    "\n",
    "if str(SCRIPT_DIR) not in sys.path:\n",
    "    sys.path.insert(0, str(SCRIPT_DIR))\n",
    "\n",
    "# Now import\n",
    "import numpy as np\n",
    "from array_utils import (\n",
    "    describe_array,\n",
    "    array_flags,\n",
    "    print_array_with_header,\n",
    "    create_identity_matrix,\n",
    "    generate_range\n",
    ")\n",
    "\n",
    "print(\"🔢 NumPy Array Basics\\n\")"
   ]
  },
  {
   "cell_type": "code",
   "execution_count": 2,
   "id": "c198d21d",
   "metadata": {},
   "outputs": [
    {
     "name": "stdout",
     "output_type": "stream",
     "text": [
      "\n",
      "🔹 Array from list\n",
      "[1 2 3]\n",
      "🔍 Array Summary:\n",
      "  Shape     : (3,)\n",
      "  Size      : 3\n",
      "  Ndim      : 1\n",
      "  Dtype     : int64\n",
      "  Itemsize  : 8\n",
      "  Nbytes    : 24\n"
     ]
    },
    {
     "data": {
      "text/plain": [
       "{'shape': (3,),\n",
       " 'size': 3,\n",
       " 'ndim': 1,\n",
       " 'dtype': dtype('int64'),\n",
       " 'itemsize': 8,\n",
       " 'nbytes': 24}"
      ]
     },
     "execution_count": 2,
     "metadata": {},
     "output_type": "execute_result"
    }
   ],
   "source": [
    "# ✅ 1. Creating arrays from lists/tuples\n",
    "list_data = [1, 2, 3]\n",
    "array_from_list = np.array(list_data)\n",
    "print_array_with_header(array_from_list, \"Array from list\")\n",
    "describe_array(array_from_list)"
   ]
  },
  {
   "cell_type": "code",
   "execution_count": 3,
   "id": "e39fd722",
   "metadata": {},
   "outputs": [
    {
     "name": "stdout",
     "output_type": "stream",
     "text": [
      "\n",
      "🔹 Zeros\n",
      "[[0. 0. 0.]\n",
      " [0. 0. 0.]]\n",
      "\n",
      "🔹 Ones\n",
      "[[1. 1. 1.]\n",
      " [1. 1. 1.]]\n",
      "\n",
      "🔹 Full (value=7)\n",
      "[[7 7 7]\n",
      " [7 7 7]]\n",
      "\n",
      "🔹 Empty (uninitialized)\n",
      "[[0. 0. 0.]\n",
      " [0. 0. 0.]]\n"
     ]
    }
   ],
   "source": [
    "# ✅ 2. Built-in arrays\n",
    "zeros = np.zeros((2, 3))\n",
    "ones = np.ones((2, 3))\n",
    "full = np.full((2, 3), 7)\n",
    "empty = np.empty((2, 3))\n",
    "\n",
    "print_array_with_header(zeros, \"Zeros\")\n",
    "print_array_with_header(ones, \"Ones\")\n",
    "print_array_with_header(full, \"Full (value=7)\")\n",
    "print_array_with_header(empty, \"Empty (uninitialized)\")"
   ]
  },
  {
   "cell_type": "code",
   "execution_count": 4,
   "id": "bb9e8d7f",
   "metadata": {},
   "outputs": [
    {
     "name": "stdout",
     "output_type": "stream",
     "text": [
      "\n",
      "🔹 Arange (0 to 10 step 2)\n",
      "[0 2 4 6 8]\n",
      "\n",
      "🔹 Linspace (0 to 1, 5 pts)\n",
      "[0.   0.25 0.5  0.75 1.  ]\n",
      "\n",
      "🔹 Logspace (10^1 to 10^3)\n",
      "[  10.  100. 1000.]\n"
     ]
    }
   ],
   "source": [
    "# ✅ 3. Ranges\n",
    "arange_ex = generate_range(0, 10, 2)\n",
    "linspace_ex = np.linspace(0, 1, 5)\n",
    "logspace_ex = np.logspace(1, 3, 3)\n",
    "\n",
    "print_array_with_header(arange_ex, \"Arange (0 to 10 step 2)\")\n",
    "print_array_with_header(linspace_ex, \"Linspace (0 to 1, 5 pts)\")\n",
    "print_array_with_header(logspace_ex, \"Logspace (10^1 to 10^3)\")"
   ]
  },
  {
   "cell_type": "code",
   "execution_count": 5,
   "id": "5900adcf",
   "metadata": {},
   "outputs": [
    {
     "name": "stdout",
     "output_type": "stream",
     "text": [
      "\n",
      "🔹 Eye (ones on diagonal)\n",
      "[[1. 0. 0.]\n",
      " [0. 1. 0.]\n",
      " [0. 0. 1.]]\n",
      "\n",
      "🔹 Identity (using helper)\n",
      "[[1. 0. 0.]\n",
      " [0. 1. 0.]\n",
      " [0. 0. 1.]]\n",
      "\n",
      "🔹 Diagonal from list\n",
      "[[1 0 0]\n",
      " [0 2 0]\n",
      " [0 0 3]]\n"
     ]
    }
   ],
   "source": [
    "# ✅ 4. Identity and Diagonal\n",
    "eye = np.eye(3)\n",
    "identity = create_identity_matrix(3)\n",
    "diag = np.diag([1, 2, 3])\n",
    "\n",
    "print_array_with_header(eye, \"Eye (ones on diagonal)\")\n",
    "print_array_with_header(identity, \"Identity (using helper)\")\n",
    "print_array_with_header(diag, \"Diagonal from list\")"
   ]
  },
  {
   "cell_type": "code",
   "execution_count": 6,
   "id": "c34aae9a",
   "metadata": {},
   "outputs": [
    {
     "name": "stdout",
     "output_type": "stream",
     "text": [
      "\n",
      "🔹 Random Uniform (0–1)\n",
      "[[0.40031123 0.30745412]\n",
      " [0.3673808  0.77821803]]\n",
      "\n",
      "🔹 Random Normal (mean=0)\n",
      "[[-0.41529017 -1.51735392]\n",
      " [ 2.39554745  1.57162881]]\n",
      "\n",
      "🔹 Random Integers (1–9)\n",
      "[[9 9 1]\n",
      " [6 1 9]]\n"
     ]
    }
   ],
   "source": [
    "# ✅ 5. Random arrays\n",
    "rand = np.random.rand(2, 2)\n",
    "randn = np.random.randn(2, 2)\n",
    "randint = np.random.randint(1, 10, (2, 3))\n",
    "\n",
    "print_array_with_header(rand, \"Random Uniform (0–1)\")\n",
    "print_array_with_header(randn, \"Random Normal (mean=0)\")\n",
    "print_array_with_header(randint, \"Random Integers (1–9)\")"
   ]
  },
  {
   "cell_type": "code",
   "execution_count": 7,
   "id": "139b7b6d",
   "metadata": {},
   "outputs": [
    {
     "name": "stdout",
     "output_type": "stream",
     "text": [
      "🔍 Array Summary:\n",
      "  Shape     : (2, 2)\n",
      "  Size      : 4\n",
      "  Ndim      : 2\n",
      "  Dtype     : float64\n",
      "  Itemsize  : 8\n",
      "  Nbytes    : 32\n"
     ]
    },
    {
     "data": {
      "text/plain": [
       "{'shape': (2, 2),\n",
       " 'size': 4,\n",
       " 'ndim': 2,\n",
       " 'dtype': dtype('float64'),\n",
       " 'itemsize': 8,\n",
       " 'nbytes': 32}"
      ]
     },
     "execution_count": 7,
     "metadata": {},
     "output_type": "execute_result"
    }
   ],
   "source": [
    "# ✅ 6. Attributes & Flags\n",
    "describe_array(rand)"
   ]
  },
  {
   "cell_type": "code",
   "execution_count": 8,
   "id": "98566469",
   "metadata": {},
   "outputs": [
    {
     "name": "stdout",
     "output_type": "stream",
     "text": [
      "🧠 Memory Flags:\n",
      "  - C_CONTIGUOUS: True\n",
      "  - F_CONTIGUOUS: False\n",
      "  - OWNDATA: True\n",
      "  - WRITEABLE: True\n",
      "  - ALIGNED: True\n",
      "  - WRITEBACKIFCOPY: False\n"
     ]
    },
    {
     "data": {
      "text/plain": [
       "{'C_CONTIGUOUS': True,\n",
       " 'F_CONTIGUOUS': False,\n",
       " 'OWNDATA': True,\n",
       " 'WRITEABLE': True,\n",
       " 'ALIGNED': True,\n",
       " 'WRITEBACKIFCOPY': False}"
      ]
     },
     "execution_count": 8,
     "metadata": {},
     "output_type": "execute_result"
    }
   ],
   "source": [
    "array_flags(rand)"
   ]
  }
 ],
 "metadata": {
  "kernelspec": {
   "display_name": "numpy_env",
   "language": "python",
   "name": "python3"
  },
  "language_info": {
   "codemirror_mode": {
    "name": "ipython",
    "version": 3
   },
   "file_extension": ".py",
   "mimetype": "text/x-python",
   "name": "python",
   "nbconvert_exporter": "python",
   "pygments_lexer": "ipython3",
   "version": "3.11.5"
  }
 },
 "nbformat": 4,
 "nbformat_minor": 5
}
